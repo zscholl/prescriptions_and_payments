{
 "cells": [
  {
   "cell_type": "markdown",
   "metadata": {},
   "source": [
    "# Loading the data"
   ]
  },
  {
   "cell_type": "code",
   "execution_count": 1,
   "metadata": {
    "collapsed": false
   },
   "outputs": [],
   "source": [
    "#imports\n",
    "import pandas as pd\n",
    "import numpy as np\n",
    "import seaborn as sns\n",
    "import matplotlib.pyplot as plt\n",
    "import pickle\n",
    "%matplotlib inline"
   ]
  },
  {
   "cell_type": "markdown",
   "metadata": {},
   "source": [
    "## Load Prescription Data"
   ]
  },
  {
   "cell_type": "code",
   "execution_count": 2,
   "metadata": {
    "collapsed": false
   },
   "outputs": [],
   "source": [
    "in_file = open(r'prescriptions.pkl', 'rb')\n",
    "prescriptions = pickle.load(in_file)\n",
    "in_file.close()"
   ]
  },
  {
   "cell_type": "markdown",
   "metadata": {},
   "source": [
    "\n"
   ]
  },
  {
   "cell_type": "code",
   "execution_count": 3,
   "metadata": {
    "collapsed": false
   },
   "outputs": [
    {
     "data": {
      "text/html": [
       "<div>\n",
       "<table border=\"1\" class=\"dataframe\">\n",
       "  <thead>\n",
       "    <tr style=\"text-align: right;\">\n",
       "      <th></th>\n",
       "      <th>NPI</th>\n",
       "      <th>NPPES_PROVIDER_LAST_ORG_NAME</th>\n",
       "      <th>NPPES_PROVIDER_FIRST_NAME</th>\n",
       "      <th>NPPES_PROVIDER_CITY</th>\n",
       "      <th>NPPES_PROVIDER_STATE</th>\n",
       "      <th>SPECIALTY_DESCRIPTION</th>\n",
       "      <th>DESCRIPTION_FLAG</th>\n",
       "      <th>DRUG_NAME</th>\n",
       "      <th>GENERIC_NAME</th>\n",
       "      <th>BENE_COUNT</th>\n",
       "      <th>TOTAL_CLAIM_COUNT</th>\n",
       "      <th>TOTAL_DAY_SUPPLY</th>\n",
       "      <th>TOTAL_DRUG_COST</th>\n",
       "      <th>BENE_COUNT_GE65</th>\n",
       "      <th>BENE_COUNT_GE65_SUPPRESS_FLAG</th>\n",
       "      <th>TOTAL_CLAIM_COUNT_GE65</th>\n",
       "      <th>GE65_SUPPRESS_FLAG</th>\n",
       "      <th>TOTAL_DAY_SUPPLY_GE65</th>\n",
       "      <th>TOTAL_DRUG_COST_GE65</th>\n",
       "    </tr>\n",
       "  </thead>\n",
       "  <tbody>\n",
       "    <tr>\n",
       "      <th>73</th>\n",
       "      <td>1588763981</td>\n",
       "      <td>AABERG</td>\n",
       "      <td>RANDAL</td>\n",
       "      <td>HONOLULU</td>\n",
       "      <td>HI</td>\n",
       "      <td>Urology</td>\n",
       "      <td>S</td>\n",
       "      <td>ANDROGEL</td>\n",
       "      <td>TESTOSTERONE</td>\n",
       "      <td>NaN</td>\n",
       "      <td>17</td>\n",
       "      <td>720</td>\n",
       "      <td>10412.06</td>\n",
       "      <td>NaN</td>\n",
       "      <td>*</td>\n",
       "      <td>17.0</td>\n",
       "      <td>NaN</td>\n",
       "      <td>720.0</td>\n",
       "      <td>10412.06</td>\n",
       "    </tr>\n",
       "    <tr>\n",
       "      <th>74</th>\n",
       "      <td>1588763981</td>\n",
       "      <td>AABERG</td>\n",
       "      <td>RANDAL</td>\n",
       "      <td>HONOLULU</td>\n",
       "      <td>HI</td>\n",
       "      <td>Urology</td>\n",
       "      <td>S</td>\n",
       "      <td>BICALUTAMIDE</td>\n",
       "      <td>BICALUTAMIDE</td>\n",
       "      <td>26.0</td>\n",
       "      <td>80</td>\n",
       "      <td>6000</td>\n",
       "      <td>3538.82</td>\n",
       "      <td>NaN</td>\n",
       "      <td>#</td>\n",
       "      <td>NaN</td>\n",
       "      <td>#</td>\n",
       "      <td>NaN</td>\n",
       "      <td>NaN</td>\n",
       "    </tr>\n",
       "    <tr>\n",
       "      <th>75</th>\n",
       "      <td>1588763981</td>\n",
       "      <td>AABERG</td>\n",
       "      <td>RANDAL</td>\n",
       "      <td>HONOLULU</td>\n",
       "      <td>HI</td>\n",
       "      <td>Urology</td>\n",
       "      <td>S</td>\n",
       "      <td>CEPHALEXIN</td>\n",
       "      <td>CEPHALEXIN</td>\n",
       "      <td>24.0</td>\n",
       "      <td>24</td>\n",
       "      <td>160</td>\n",
       "      <td>262.86</td>\n",
       "      <td>24.0</td>\n",
       "      <td>NaN</td>\n",
       "      <td>24.0</td>\n",
       "      <td>NaN</td>\n",
       "      <td>160.0</td>\n",
       "      <td>262.86</td>\n",
       "    </tr>\n",
       "    <tr>\n",
       "      <th>76</th>\n",
       "      <td>1588763981</td>\n",
       "      <td>AABERG</td>\n",
       "      <td>RANDAL</td>\n",
       "      <td>HONOLULU</td>\n",
       "      <td>HI</td>\n",
       "      <td>Urology</td>\n",
       "      <td>S</td>\n",
       "      <td>CIPROFLOXACIN HCL</td>\n",
       "      <td>CIPROFLOXACIN HCL</td>\n",
       "      <td>52.0</td>\n",
       "      <td>63</td>\n",
       "      <td>415</td>\n",
       "      <td>511.65</td>\n",
       "      <td>NaN</td>\n",
       "      <td>#</td>\n",
       "      <td>NaN</td>\n",
       "      <td>#</td>\n",
       "      <td>NaN</td>\n",
       "      <td>NaN</td>\n",
       "    </tr>\n",
       "    <tr>\n",
       "      <th>77</th>\n",
       "      <td>1588763981</td>\n",
       "      <td>AABERG</td>\n",
       "      <td>RANDAL</td>\n",
       "      <td>HONOLULU</td>\n",
       "      <td>HI</td>\n",
       "      <td>Urology</td>\n",
       "      <td>S</td>\n",
       "      <td>FINASTERIDE</td>\n",
       "      <td>FINASTERIDE</td>\n",
       "      <td>124.0</td>\n",
       "      <td>354</td>\n",
       "      <td>28140</td>\n",
       "      <td>31082.02</td>\n",
       "      <td>NaN</td>\n",
       "      <td>#</td>\n",
       "      <td>NaN</td>\n",
       "      <td>#</td>\n",
       "      <td>NaN</td>\n",
       "      <td>NaN</td>\n",
       "    </tr>\n",
       "  </tbody>\n",
       "</table>\n",
       "</div>"
      ],
      "text/plain": [
       "           NPI NPPES_PROVIDER_LAST_ORG_NAME NPPES_PROVIDER_FIRST_NAME  \\\n",
       "73  1588763981                       AABERG                    RANDAL   \n",
       "74  1588763981                       AABERG                    RANDAL   \n",
       "75  1588763981                       AABERG                    RANDAL   \n",
       "76  1588763981                       AABERG                    RANDAL   \n",
       "77  1588763981                       AABERG                    RANDAL   \n",
       "\n",
       "   NPPES_PROVIDER_CITY NPPES_PROVIDER_STATE SPECIALTY_DESCRIPTION  \\\n",
       "73            HONOLULU                   HI               Urology   \n",
       "74            HONOLULU                   HI               Urology   \n",
       "75            HONOLULU                   HI               Urology   \n",
       "76            HONOLULU                   HI               Urology   \n",
       "77            HONOLULU                   HI               Urology   \n",
       "\n",
       "   DESCRIPTION_FLAG          DRUG_NAME       GENERIC_NAME  BENE_COUNT  \\\n",
       "73                S           ANDROGEL       TESTOSTERONE         NaN   \n",
       "74                S       BICALUTAMIDE       BICALUTAMIDE        26.0   \n",
       "75                S         CEPHALEXIN         CEPHALEXIN        24.0   \n",
       "76                S  CIPROFLOXACIN HCL  CIPROFLOXACIN HCL        52.0   \n",
       "77                S        FINASTERIDE        FINASTERIDE       124.0   \n",
       "\n",
       "    TOTAL_CLAIM_COUNT  TOTAL_DAY_SUPPLY  TOTAL_DRUG_COST  BENE_COUNT_GE65  \\\n",
       "73                 17               720         10412.06              NaN   \n",
       "74                 80              6000          3538.82              NaN   \n",
       "75                 24               160           262.86             24.0   \n",
       "76                 63               415           511.65              NaN   \n",
       "77                354             28140         31082.02              NaN   \n",
       "\n",
       "   BENE_COUNT_GE65_SUPPRESS_FLAG  TOTAL_CLAIM_COUNT_GE65 GE65_SUPPRESS_FLAG  \\\n",
       "73                             *                    17.0                NaN   \n",
       "74                             #                     NaN                  #   \n",
       "75                           NaN                    24.0                NaN   \n",
       "76                             #                     NaN                  #   \n",
       "77                             #                     NaN                  #   \n",
       "\n",
       "    TOTAL_DAY_SUPPLY_GE65  TOTAL_DRUG_COST_GE65  \n",
       "73                  720.0              10412.06  \n",
       "74                    NaN                   NaN  \n",
       "75                  160.0                262.86  \n",
       "76                    NaN                   NaN  \n",
       "77                    NaN                   NaN  "
      ]
     },
     "execution_count": 3,
     "metadata": {},
     "output_type": "execute_result"
    }
   ],
   "source": [
    "prescriptions.head()"
   ]
  },
  {
   "cell_type": "code",
   "execution_count": 4,
   "metadata": {
    "collapsed": true
   },
   "outputs": [],
   "source": [
    "from sklearn.preprocessing import OneHotEncoder\n",
    "from sklearn.preprocessing import LabelEncoder"
   ]
  },
  {
   "cell_type": "code",
   "execution_count": 5,
   "metadata": {
    "collapsed": true
   },
   "outputs": [],
   "source": [
    "prescriptions = prescriptions[['SPECIALTY_DESCRIPTION', 'DRUG_NAME']]"
   ]
  },
  {
   "cell_type": "code",
   "execution_count": null,
   "metadata": {
    "collapsed": true
   },
   "outputs": [],
   "source": []
  },
  {
   "cell_type": "code",
   "execution_count": 6,
   "metadata": {
    "collapsed": false
   },
   "outputs": [],
   "source": [
    "lbl = LabelEncoder()\n",
    "\n",
    "# encode the specialty and drug labels\n",
    "prescriptions['specialty'] = lbl.fit_transform(prescriptions.SPECIALTY_DESCRIPTION)\n",
    "specialty_features = lbl.classes_\n",
    "prescriptions['drug'] = lbl.fit_transform(prescriptions.DRUG_NAME)\n",
    "drug_features = lbl.classes_"
   ]
  },
  {
   "cell_type": "code",
   "execution_count": 7,
   "metadata": {
    "collapsed": true
   },
   "outputs": [],
   "source": [
    "features = np.concatenate([specialty_features, drug_features])"
   ]
  },
  {
   "cell_type": "code",
   "execution_count": 8,
   "metadata": {
    "collapsed": false
   },
   "outputs": [
    {
     "data": {
      "text/plain": [
       "array(['Addiction Medicine', 'Allergy/Immunology', 'Anesthesiology', ...,\n",
       "       'ZYPREXA ZYDIS', 'ZYTIGA', 'ZYVOX'], dtype=object)"
      ]
     },
     "execution_count": 8,
     "metadata": {},
     "output_type": "execute_result"
    }
   ],
   "source": [
    "features"
   ]
  },
  {
   "cell_type": "code",
   "execution_count": 10,
   "metadata": {
    "collapsed": false
   },
   "outputs": [],
   "source": [
    "np.save('no_payment_features', features)"
   ]
  },
  {
   "cell_type": "code",
   "execution_count": null,
   "metadata": {
    "collapsed": true
   },
   "outputs": [],
   "source": []
  },
  {
   "cell_type": "code",
   "execution_count": null,
   "metadata": {
    "collapsed": false
   },
   "outputs": [],
   "source": [
    "prescriptions.head()"
   ]
  },
  {
   "cell_type": "code",
   "execution_count": null,
   "metadata": {
    "collapsed": true
   },
   "outputs": [],
   "source": [
    "prescriptions = prescriptions[['specialty', 'drug']]"
   ]
  },
  {
   "cell_type": "code",
   "execution_count": null,
   "metadata": {
    "collapsed": false
   },
   "outputs": [],
   "source": [
    "prescriptions.head()"
   ]
  },
  {
   "cell_type": "code",
   "execution_count": null,
   "metadata": {
    "collapsed": false
   },
   "outputs": [],
   "source": [
    "oh = OneHotEncoder()"
   ]
  },
  {
   "cell_type": "code",
   "execution_count": null,
   "metadata": {
    "collapsed": false
   },
   "outputs": [],
   "source": [
    "X = oh.fit_transform(prescriptions)"
   ]
  },
  {
   "cell_type": "code",
   "execution_count": null,
   "metadata": {
    "collapsed": false
   },
   "outputs": [],
   "source": [
    "X.shape"
   ]
  },
  {
   "cell_type": "code",
   "execution_count": null,
   "metadata": {
    "collapsed": false
   },
   "outputs": [],
   "source": [
    "X.data.nbytes / float((1024**3))"
   ]
  },
  {
   "cell_type": "code",
   "execution_count": null,
   "metadata": {
    "collapsed": true
   },
   "outputs": [],
   "source": [
    "def save_sparse_csr(filename, array):\n",
    "    np.savez(filename, data=array.data, indices=array.indices, indptr=array.indptr, shape=array.shape)"
   ]
  },
  {
   "cell_type": "code",
   "execution_count": null,
   "metadata": {
    "collapsed": true
   },
   "outputs": [],
   "source": [
    "save_sparse_csr('data_matrix_one-hot_no_payments', X)"
   ]
  }
 ],
 "metadata": {
  "anaconda-cloud": {},
  "kernelspec": {
   "display_name": "Python 2",
   "language": "python",
   "name": "python2"
  },
  "language_info": {
   "codemirror_mode": {
    "name": "ipython",
    "version": 2
   },
   "file_extension": ".py",
   "mimetype": "text/x-python",
   "name": "python",
   "nbconvert_exporter": "python",
   "pygments_lexer": "ipython2",
   "version": "2.7.13"
  }
 },
 "nbformat": 4,
 "nbformat_minor": 1
}

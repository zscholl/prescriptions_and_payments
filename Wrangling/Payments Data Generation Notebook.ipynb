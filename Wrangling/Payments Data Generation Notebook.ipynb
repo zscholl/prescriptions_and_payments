{
 "cells": [
  {
   "cell_type": "code",
   "execution_count": null,
   "metadata": {
    "collapsed": true
   },
   "outputs": [],
   "source": [
    "import pandas as pd\n",
    "import numpy as np\n",
    "import pickle"
   ]
  },
  {
   "cell_type": "markdown",
   "metadata": {},
   "source": [
    "## Load physician ID to NPI mapping"
   ]
  },
  {
   "cell_type": "code",
   "execution_count": null,
   "metadata": {
    "collapsed": true
   },
   "outputs": [],
   "source": [
    "file_in = open(r'data/physician_id_to_npi.pkl', 'rb')\n",
    "\n",
    "physician_id_to_npi = pickle.load(file_in)\n",
    "\n",
    "file_in.close()"
   ]
  },
  {
   "cell_type": "markdown",
   "metadata": {},
   "source": [
    "\n",
    "\n"
   ]
  },
  {
   "cell_type": "markdown",
   "metadata": {},
   "source": [
    "## Load Prescription Data"
   ]
  },
  {
   "cell_type": "code",
   "execution_count": null,
   "metadata": {
    "collapsed": true
   },
   "outputs": [],
   "source": [
    "in_file = open(r'data/prescriptions.pkl', 'rb')\n",
    "prescriptions = pickle.load(in_file)\n",
    "in_file.close()"
   ]
  },
  {
   "cell_type": "markdown",
   "metadata": {},
   "source": [
    "\n"
   ]
  },
  {
   "cell_type": "markdown",
   "metadata": {},
   "source": [
    "\n"
   ]
  },
  {
   "cell_type": "markdown",
   "metadata": {},
   "source": [
    "## Shaping the data"
   ]
  },
  {
   "cell_type": "markdown",
   "metadata": {},
   "source": [
    "In order to get the data into a form we can use for modeling, I will be grouping the payments by each provider, summing up the total amount of payment received from each manufacturer. This will give me a feature for each manufacturer and the value will be the total amount of payment that provider recieved during 2014 from that manufacturer.\n",
    "\n",
    "I will also have a feature for each drug, I will use a one-hot encoding scheme.\n",
    "\n",
    "Each row in this dataset will be a provider-drug pair where the target variable will either be the total number of claims filed or the total day supply that was prescribed in 2014.\n",
    "\n",
    "I will be building a regression model and interpreting the coefficient derived from the manufacturer features. If no significant coeffecient is found then there is little to no influence of those payments on their prescription rates. I hypothesize that the drugs name will be the most significant variable in predicting the prescription rate but that certain manufacturer payments will exhibit some influence over these values."
   ]
  },
  {
   "cell_type": "markdown",
   "metadata": {},
   "source": [
    "Below is the code I ran to get the eventual data matrix and target values. Processing this was **very** memory intensive. At one point it took up over 430GB of RAM.\n",
    "\n",
    "```python\n",
    "payments_grouped = payments.groupby(['Physician_Profile_ID', 'Applicable_Manufacturer_or_Applicable_GPO_Making_Payment_Name']).agg({'Total_Amount_of_Payment_USDollars': 'sum'})\n",
    "\n",
    "payments_grouped = payments_grouped.unstack(\n",
    "    'Applicable_Manufacturer_or_Applicable_GPO_Making_Payment_Name').reset_index().fillna(0)\n",
    "\n",
    "payments_grouped.columns = payments_grouped.columns.droplevel()\n",
    "# create a named column for the Physician_Profile_ID\n",
    "payments_grouped['Physician_Profile_ID'] = payments_grouped[[0]].values\n",
    "\n",
    "# Insert the NPI into payments\n",
    "payments_grouped = payments_grouped.merge(physician_id_to_npi, on='Physician_Profile_ID', copy=False)\n",
    "\n",
    "prescriptions = prescriptions[['NPI', 'SPECIALTY_DESCRIPTION', 'DRUG_NAME', 'TOTAL_DAY_SUPPLY']]\n",
    "# merge the payments records with prescription data\n",
    "prescriptions = prescriptions.merge(payments_grouped, on='NPI', copy=False)\n",
    "\n",
    "lbl = LabelEncoder()\n",
    "\n",
    "# encode the specialty and drug labels\n",
    "prescriptions['specialty'] = lbl.fit_transform(prescriptions.SPECIALTY_DESCRIPTION)\n",
    "specialty_features = lbl.classes_\n",
    "prescriptions['drug'] = lbl.fit_transform(prescriptions.DRUG_NAME)\n",
    "drug_features = lbl.classes_\n",
    "\n",
    "Y = prescriptions['TOTAL_DAY_SUPPLY']\n",
    "\n",
    "data_columns = []\n",
    "data_columns.extend(prescriptions.columns[5:-3].tolist())\n",
    "data_columns.extend(prescriptions.columns[-2:])\n",
    "\n",
    "# only take the columns we care about\n",
    "# NOTE: calling 'drop' took up a lot of memory and this took up less\n",
    "prescriptions = prescriptions[data_columns]\n",
    "\n",
    "oh = OneHotEncoder(categorical_features=[-2,-1])\n",
    "\n",
    "features = np.concatenate([specialty_features, drug_features, prescriptions.columns[:-2]])\n",
    "\n",
    "X = oh.fit_transform(prescriptions)\n",
    "\n",
    "```\n",
    "\n",
    "I wrote X, Y, and features to disk using pickle."
   ]
  }
 ],
 "metadata": {
  "anaconda-cloud": {},
  "kernelspec": {
   "display_name": "Python [conda env:py27]",
   "language": "python",
   "name": "conda-env-py27-py"
  },
  "language_info": {
   "codemirror_mode": {
    "name": "ipython",
    "version": 2
   },
   "file_extension": ".py",
   "mimetype": "text/x-python",
   "name": "python",
   "nbconvert_exporter": "python",
   "pygments_lexer": "ipython2",
   "version": "2.7.12"
  }
 },
 "nbformat": 4,
 "nbformat_minor": 1
}

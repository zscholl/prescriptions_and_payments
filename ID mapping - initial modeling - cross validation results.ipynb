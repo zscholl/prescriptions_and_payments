{
 "cells": [
  {
   "cell_type": "markdown",
   "metadata": {},
   "source": [
    "# Contents of this notebook"
   ]
  },
  {
   "cell_type": "markdown",
   "metadata": {
    "collapsed": true
   },
   "source": [
    "This notebook contains miscellaneous analysis and code that was run to accomplish this task. Particularly some data wrangling done to map physician IDs to NPIs some initial linear modeling that was done, as well as the cross validation results."
   ]
  },
  {
   "cell_type": "markdown",
   "metadata": {},
   "source": [
    "# Loading the data"
   ]
  },
  {
   "cell_type": "code",
   "execution_count": 35,
   "metadata": {
    "collapsed": false
   },
   "outputs": [],
   "source": [
    "#imports\n",
    "import pandas as pd\n",
    "import numpy as np\n",
    "import seaborn as sns\n",
    "import matplotlib.pyplot as plt\n",
    "import pickle\n",
    "%matplotlib inline\n",
    "from __future__ import division"
   ]
  },
  {
   "cell_type": "markdown",
   "metadata": {},
   "source": [
    "##  Loading Payments Data"
   ]
  },
  {
   "cell_type": "code",
   "execution_count": 2,
   "metadata": {
    "collapsed": true
   },
   "outputs": [],
   "source": [
    "payments_types = {'Applicable_Manufacturer_or_Applicable_GPO_Making_Payment_ID': 'str',\n",
    " 'Charity_Indicator': 'str',\n",
    " 'City_of_Travel': 'str',\n",
    " 'Contextual_Information': 'str',\n",
    " 'Country_of_Travel': 'str',\n",
    " 'NDC_of_Associated_Covered_Drug_or_Biological1': 'str',\n",
    " 'NDC_of_Associated_Covered_Drug_or_Biological2': 'str',\n",
    " 'NDC_of_Associated_Covered_Drug_or_Biological3': 'str',\n",
    " 'NDC_of_Associated_Covered_Drug_or_Biological4': 'str',\n",
    " 'NDC_of_Associated_Covered_Drug_or_Biological5': 'str',\n",
    " 'Name_of_Associated_Covered_Device_or_Medical_Supply1': 'str',\n",
    " 'Name_of_Associated_Covered_Device_or_Medical_Supply2': 'str',\n",
    " 'Name_of_Associated_Covered_Device_or_Medical_Supply3': 'str',\n",
    " 'Name_of_Associated_Covered_Device_or_Medical_Supply4': 'str',\n",
    " 'Name_of_Associated_Covered_Device_or_Medical_Supply5': 'str',\n",
    " 'Name_of_Associated_Covered_Drug_or_Biological1': 'str',\n",
    " 'Name_of_Associated_Covered_Drug_or_Biological2': 'str',\n",
    " 'Name_of_Associated_Covered_Drug_or_Biological3': 'str',\n",
    " 'Name_of_Associated_Covered_Drug_or_Biological4': 'str',\n",
    " 'Name_of_Associated_Covered_Drug_or_Biological5': 'str',\n",
    " 'Name_of_Third_Party_Entity_Receiving_Payment_or_Transfer_of_Value': 'str',\n",
    " 'Physician_License_State_code2': 'str',\n",
    " 'Physician_License_State_code3': 'str',\n",
    " 'Physician_License_State_code4': 'str',\n",
    " 'Physician_License_State_code5': 'str',\n",
    " 'Physician_First_Name': 'str',\n",
    " 'Physician_Last_Name': 'str',\n",
    " 'Physician_Middle_Name': 'str',\n",
    " 'Physician_Name_Suffix': 'str',\n",
    " 'Physician_Profile_ID': 'str',\n",
    " 'Recipient_Postal_Code': 'str',\n",
    " 'Recipient_Primary_Business_Street_Address_Line2': 'str',\n",
    " 'Recipient_Province': 'str',\n",
    " 'Recipient_Zip_Code': 'str',\n",
    " 'Record_ID': 'str',\n",
    " 'State_of_Travel': 'str',\n",
    " 'Teaching_Hospital_ID': 'str',\n",
    " 'Teaching_Hospital_Name': 'str',\n",
    " 'Third_Party_Equals_Covered_Recipient_Indicator': 'str'}"
   ]
  },
  {
   "cell_type": "code",
   "execution_count": 3,
   "metadata": {
    "collapsed": false
   },
   "outputs": [],
   "source": [
    "payments = pd.read_csv(r'OP_DTL_GNRL_PGYR2014_P06302016.csv', dtype=payments_types)"
   ]
  },
  {
   "cell_type": "markdown",
   "metadata": {},
   "source": [
    "## Data Wrangling"
   ]
  },
  {
   "cell_type": "markdown",
   "metadata": {},
   "source": [
    "In order to tie the payments data to prescribers, I had to look up the National Provider Identifier (NPI) for each physician in the payments dataset. Every prescriber in the Medicaid Part D prescriptions dataset has an NPI associated with them, but because of the law written by congress, the NPI is not to be released with the payments data. \n",
    "\n",
    "I used the National Plan and Provider Enumeration System's (NPPES) NPI [registry](https://npiregistry.cms.hhs.gov/) to lookup each physician's NPI. The code I used to do this is listed below, but it is not included in the live notebook because of memory constraints. The NPPES full dataset is over 5.7GB.\n",
    "\n",
    "\n",
    "\n",
    "```python\n",
    "physician_info = payments[['Physician_Profile_ID', 'Physician_First_Name', 'Physician_Middle_Name',\n",
    "       'Physician_Last_Name', 'Recipient_Primary_Business_Street_Address_Line1', 'Recipient_City',\n",
    "       'Recipient_State']]\n",
    "       \n",
    "nppes = pd.read_csv(r'data_unzipped/NPPES/npidata_20050523-20170108.csv', \n",
    "                    usecols=['NPI', 'Provider Last Name (Legal Name)','Provider First Name', \n",
    "                             'Provider Middle Name', \n",
    "                             'Provider First Line Business Mailing Address',\n",
    "                             'Provider Business Mailing Address City Name', \n",
    "                             'Provider Business Mailing Address State Name'], \n",
    "                    dtype={'Provider Business Mailing Address Postal Code': 'str'})\n",
    "                    \n",
    "# change the column names to match for merging\n",
    "nppes.columns = ['NPI', 'last_name', 'first_name', 'middle_name', 'address', 'city', 'state']\n",
    "physician_info.columns = ['Physician_Profile_ID', 'first_name', 'middle_name', 'last_name', 'address', \n",
    "                          'city', 'state']\n",
    "                          \n",
    "def safe_upper(x):\n",
    "    \"\"\"\n",
    "    Transforms an object to an uppercase string or returns the object\n",
    "    in the case it is not a string.\n",
    "    \"\"\"\n",
    "    try:\n",
    "        return x.upper()\n",
    "    except AttributeError:\n",
    "        return x\n",
    "\n",
    "# make all the fields into uppercase\n",
    "physician_info['first_name'] = physician_info['first_name'].apply(lambda x: safe_upper(x))\n",
    "physician_info['last_name'] = physician_info['last_name'].apply(lambda x: safe_upper(x))\n",
    "physician_info['middle_name'] = physician_info['middle_name'].apply(lambda x: safe_upper(x))\n",
    "physician_info['address'] = physician_info['address'].apply(lambda x: safe_upper(x))\n",
    "physician_info['city'] = physician_info['city'].apply(lambda x: safe_upper(x))\n",
    "\n",
    "\n",
    "# drop any duplicate entries in the physicians info\n",
    "physician_info = physician_info.drop_duplicates()\n",
    "\n",
    "physician_npi = physician_info.merge(nppes, on=['last_name', 'first_name', \n",
    "                                                'middle_name', 'address', \n",
    "                                                'city', 'state'], how='inner')\n",
    "# Drop any duplicates from the resulting merge\n",
    "physician_npi = physician_npi[~physician_npi.duplicated(subset=['last_name', 'first_name', \n",
    "                                                                'middle_name','address', \n",
    "                                                                'city', 'state'] ,keep=False)]\n",
    "                                                                \n",
    "physician_id_to_npi = physician_npi[['Physician_Profile_ID', 'NPI']]\n",
    "\n",
    "```\n",
    "\n",
    "With this lookup we can find an NPI for 44% of the Physicians in the payments dataset. This isn't ideal, but it should give us a good cross-section on the prescription dataset."
   ]
  },
  {
   "cell_type": "markdown",
   "metadata": {},
   "source": [
    "I have this mapping saved as a pickled object, so for the live notebook all I have to do is load it using pickle."
   ]
  },
  {
   "cell_type": "code",
   "execution_count": 4,
   "metadata": {
    "collapsed": false
   },
   "outputs": [],
   "source": [
    "file_in = open(r'physician_id_to_npi.pkl', 'rb')\n",
    "\n",
    "physician_id_to_npi = pickle.load(file_in)\n",
    "\n",
    "file_in.close()"
   ]
  },
  {
   "cell_type": "markdown",
   "metadata": {},
   "source": [
    "\n",
    "\n"
   ]
  },
  {
   "cell_type": "markdown",
   "metadata": {},
   "source": [
    "\n",
    "\n"
   ]
  },
  {
   "cell_type": "markdown",
   "metadata": {},
   "source": [
    "\n"
   ]
  },
  {
   "cell_type": "markdown",
   "metadata": {},
   "source": [
    "### Prescriptions with NPI coverage"
   ]
  },
  {
   "cell_type": "markdown",
   "metadata": {},
   "source": [
    "It's also important that we get a significant cross-section of providers from the prescriptions dataset and the payments dataset.\n",
    "\n",
    "To measure that we will see how many NPIs in the prescriptions dataset we came up with in the NPI to physician ID mapping table.\n",
    "\n",
    "For 36% of the prescription records we have information on that provider's payments from drug manufacturers. I don't know what percentage of all physicians receive payments from drug manufacturers so I can't quantify what proportion of physicians we aren't able to tie their prescriptions to their payments, but 36% of all prescription records from 2014 is a good sample size."
   ]
  },
  {
   "cell_type": "markdown",
   "metadata": {
    "collapsed": false
   },
   "source": [
    "```python\n",
    "len(prescriptions[prescriptions.NPI.isin(physician_id_to_npi.NPI)]) / float(len(prescriptions))\n",
    ">>> 0.3598...\n",
    "```"
   ]
  },
  {
   "cell_type": "markdown",
   "metadata": {},
   "source": [
    "My method of looking up NPIs from the payments dataset is imperfect, because of this, I can't confidently say that the  providers in the prescription data set that I can't match up with the payments data set, have not received any payments from manufacturers. For this reason I am choosing not to include those providers my analysis. **I think I should reword this, it's a confusing sentence**\n",
    "\n",
    "Unfortunately, this means I'm throwing away the majority of my prescription data, and I also cannot compare providers who recieve payments to those who receive no payments.\n",
    "\n",
    "My sampling bias here means my dataset is biased toward those providers who have recieve payments from manufacturers. Outside of that, there shouldn't be any other factor influencing which providers I'm including in my analysis."
   ]
  },
  {
   "cell_type": "markdown",
   "metadata": {},
   "source": [
    "\n",
    "\n"
   ]
  },
  {
   "cell_type": "markdown",
   "metadata": {},
   "source": [
    "I have saved the prescription dataset I'm working with as a pickled object for memory efficiency reasons, below is the line of code I used to get the dataset I'm working with.\n",
    "\n",
    "```python\n",
    "prescriptions = prescriptions[prescriptions.NPI.isin(physician_id_to_npi.NPI)]\n",
    "```"
   ]
  },
  {
   "cell_type": "markdown",
   "metadata": {},
   "source": [
    "## Load Prescription Data"
   ]
  },
  {
   "cell_type": "code",
   "execution_count": 9,
   "metadata": {
    "collapsed": true
   },
   "outputs": [],
   "source": [
    "in_file = open(r'prescriptions.pkl', 'rb')\n",
    "prescriptions = pickle.load(in_file)\n",
    "in_file.close()"
   ]
  },
  {
   "cell_type": "markdown",
   "metadata": {},
   "source": [
    "\n"
   ]
  },
  {
   "cell_type": "markdown",
   "metadata": {},
   "source": [
    "## Distribution over variables of interest"
   ]
  },
  {
   "cell_type": "code",
   "execution_count": 11,
   "metadata": {
    "collapsed": false
   },
   "outputs": [
    {
     "data": {
      "text/html": [
       "<div>\n",
       "<table border=\"1\" class=\"dataframe\">\n",
       "  <thead>\n",
       "    <tr style=\"text-align: right;\">\n",
       "      <th></th>\n",
       "      <th>TOTAL_CLAIM_COUNT</th>\n",
       "      <th>TOTAL_DAY_SUPPLY</th>\n",
       "    </tr>\n",
       "  </thead>\n",
       "  <tbody>\n",
       "    <tr>\n",
       "      <th>count</th>\n",
       "      <td>8.743650e+06</td>\n",
       "      <td>8.743650e+06</td>\n",
       "    </tr>\n",
       "    <tr>\n",
       "      <th>mean</th>\n",
       "      <td>5.716460e+01</td>\n",
       "      <td>2.306533e+03</td>\n",
       "    </tr>\n",
       "    <tr>\n",
       "      <th>std</th>\n",
       "      <td>9.671093e+01</td>\n",
       "      <td>4.118261e+03</td>\n",
       "    </tr>\n",
       "    <tr>\n",
       "      <th>min</th>\n",
       "      <td>1.100000e+01</td>\n",
       "      <td>1.100000e+01</td>\n",
       "    </tr>\n",
       "    <tr>\n",
       "      <th>25%</th>\n",
       "      <td>1.500000e+01</td>\n",
       "      <td>4.850000e+02</td>\n",
       "    </tr>\n",
       "    <tr>\n",
       "      <th>50%</th>\n",
       "      <td>2.600000e+01</td>\n",
       "      <td>9.900000e+02</td>\n",
       "    </tr>\n",
       "    <tr>\n",
       "      <th>75%</th>\n",
       "      <td>5.700000e+01</td>\n",
       "      <td>2.262000e+03</td>\n",
       "    </tr>\n",
       "    <tr>\n",
       "      <th>max</th>\n",
       "      <td>1.508500e+04</td>\n",
       "      <td>2.436100e+05</td>\n",
       "    </tr>\n",
       "  </tbody>\n",
       "</table>\n",
       "</div>"
      ],
      "text/plain": [
       "       TOTAL_CLAIM_COUNT  TOTAL_DAY_SUPPLY\n",
       "count       8.743650e+06      8.743650e+06\n",
       "mean        5.716460e+01      2.306533e+03\n",
       "std         9.671093e+01      4.118261e+03\n",
       "min         1.100000e+01      1.100000e+01\n",
       "25%         1.500000e+01      4.850000e+02\n",
       "50%         2.600000e+01      9.900000e+02\n",
       "75%         5.700000e+01      2.262000e+03\n",
       "max         1.508500e+04      2.436100e+05"
      ]
     },
     "execution_count": 11,
     "metadata": {},
     "output_type": "execute_result"
    }
   ],
   "source": [
    "prescriptions[['TOTAL_CLAIM_COUNT', 'TOTAL_DAY_SUPPLY']].describe()"
   ]
  },
  {
   "cell_type": "code",
   "execution_count": 12,
   "metadata": {
    "collapsed": false
   },
   "outputs": [
    {
     "data": {
      "image/png": "[encoded data removed]",
      "text/plain": [
       "<matplotlib.figure.Figure at 0xb9f9da0>"
      ]
     },
     "metadata": {},
     "output_type": "display_data"
    }
   ],
   "source": [
    "sns.distplot(prescriptions.TOTAL_CLAIM_COUNT)\n",
    "None"
   ]
  },
  {
   "cell_type": "code",
   "execution_count": 13,
   "metadata": {
    "collapsed": false
   },
   "outputs": [
    {
     "data": {
      "image/png": "[encoded data removed]",
      "text/plain": [
       "<matplotlib.figure.Figure at 0x1a262278>"
      ]
     },
     "metadata": {},
     "output_type": "display_data"
    }
   ],
   "source": [
    "sns.distplot(prescriptions.TOTAL_DAY_SUPPLY)\n",
    "None"
   ]
  },
  {
   "cell_type": "markdown",
   "metadata": {},
   "source": [
    "Both variables of interest exhibit a highly tailed distribution. There are definitely significant outliers in the dataset."
   ]
  },
  {
   "cell_type": "markdown",
   "metadata": {},
   "source": [
    "\n"
   ]
  },
  {
   "cell_type": "markdown",
   "metadata": {},
   "source": [
    "# Loading in the data matrix"
   ]
  },
  {
   "cell_type": "code",
   "execution_count": 2,
   "metadata": {
    "collapsed": false
   },
   "outputs": [],
   "source": [
    "in_file = open(r'total_day_supply.pkl', 'rb')\n",
    "\n",
    "total_day_supply = pickle.load(in_file)\n",
    "\n",
    "in_file.close()"
   ]
  },
  {
   "cell_type": "code",
   "execution_count": 3,
   "metadata": {
    "collapsed": true
   },
   "outputs": [],
   "source": [
    "in_file = open(r'y_data.pkl', 'rb')\n",
    "\n",
    "total_claim_count = pickle.load(in_file)\n",
    "\n",
    "in_file.close()"
   ]
  },
  {
   "cell_type": "code",
   "execution_count": 4,
   "metadata": {
    "collapsed": true
   },
   "outputs": [],
   "source": [
    "in_file = open(r'features.pkl', 'rb')\n",
    "\n",
    "features = pickle.load(in_file)\n",
    "\n",
    "in_file.close()"
   ]
  },
  {
   "cell_type": "code",
   "execution_count": 5,
   "metadata": {
    "collapsed": true
   },
   "outputs": [],
   "source": [
    "from scipy.sparse import csr_matrix"
   ]
  },
  {
   "cell_type": "code",
   "execution_count": 6,
   "metadata": {
    "collapsed": true
   },
   "outputs": [],
   "source": [
    "def load_sparse_csr(filename):\n",
    "    loader = np.load(filename)\n",
    "    return csr_matrix(( loader['data'], loader['indices'], loader['indptr']), shape = loader['shape'])"
   ]
  },
  {
   "cell_type": "code",
   "execution_count": 7,
   "metadata": {
    "collapsed": false
   },
   "outputs": [],
   "source": [
    "X = load_sparse_csr('data_matrix_one-hot.npz')"
   ]
  },
  {
   "cell_type": "code",
   "execution_count": 8,
   "metadata": {
    "collapsed": false
   },
   "outputs": [
    {
     "data": {
      "text/plain": [
       "(8743650, 4122)"
      ]
     },
     "execution_count": 8,
     "metadata": {},
     "output_type": "execute_result"
    }
   ],
   "source": [
    "X.shape"
   ]
  },
  {
   "cell_type": "markdown",
   "metadata": {},
   "source": [
    "# Lets run some models"
   ]
  },
  {
   "cell_type": "code",
   "execution_count": 9,
   "metadata": {
    "collapsed": true
   },
   "outputs": [],
   "source": [
    "from sklearn.model_selection import train_test_split\n",
    "from sklearn.linear_model import SGDRegressor"
   ]
  },
  {
   "cell_type": "code",
   "execution_count": 10,
   "metadata": {
    "collapsed": true
   },
   "outputs": [],
   "source": [
    "X_train,X_test, supply_train, supply_test, claim_train, claim_test = train_test_split(X, total_day_supply, total_claim_count)"
   ]
  },
  {
   "cell_type": "code",
   "execution_count": 11,
   "metadata": {
    "collapsed": true
   },
   "outputs": [],
   "source": [
    "def fit_default(classifier, x_train, x_test, y_train, y_test):\n",
    "    classifier.fit(x_train, y_train)\n",
    "    train_score = classifier.score(x_train, y_train)\n",
    "    test_score = classifier.score(x_test, y_test)\n",
    "    return (train_score, test_score)"
   ]
  },
  {
   "cell_type": "code",
   "execution_count": 12,
   "metadata": {
    "collapsed": false
   },
   "outputs": [
    {
     "name": "stdout",
     "output_type": "stream",
     "text": [
      "SGD Regressor on total day supply had a training accuracy of -1.13850362339e+31 and a testing accuracy of -1.99078062531e+31\n"
     ]
    }
   ],
   "source": [
    "tr_scr, tst_scr = fit_default(SGDRegressor(), X_train, X_test, supply_train, supply_test)\n",
    "print(\"SGD Regressor on total day supply had a training accuracy of {} and a testing accuracy of {}\".format(tr_scr, tst_scr))"
   ]
  },
  {
   "cell_type": "code",
   "execution_count": 13,
   "metadata": {
    "collapsed": false
   },
   "outputs": [
    {
     "name": "stdout",
     "output_type": "stream",
     "text": [
      "SGD Regressor on total claims had a training accuracy of -1.85722329223e+34 and a testing accuracy of -1.76172631479e+34\n"
     ]
    }
   ],
   "source": [
    "tr_scr, tst_scr = fit_default(SGDRegressor(), X_train, X_test, claim_train, claim_test)\n",
    "print(\"SGD Regressor on total claims had a training accuracy of {} and a testing accuracy of {}\".format(tr_scr, tst_scr))"
   ]
  },
  {
   "cell_type": "markdown",
   "metadata": {
    "collapsed": false
   },
   "source": [
    "## SGD...not so good"
   ]
  },
  {
   "cell_type": "markdown",
   "metadata": {
    "collapsed": false
   },
   "source": [
    "The default scoring function for the SGD classifier is $R^{2}$. An $R^{2}$ of zero indicates that the predicted line is simply predicting the average for the target variable. In this case the $R^{2}$ value is very close to zero and slightly negative. \n",
    "\n",
    "So this is by no exagerration an awful predictor."
   ]
  },
  {
   "cell_type": "markdown",
   "metadata": {
    "collapsed": false
   },
   "source": [
    "## Cross validation results from random forest"
   ]
  },
  {
   "cell_type": "code",
   "execution_count": 164,
   "metadata": {
    "collapsed": false
   },
   "outputs": [],
   "source": [
    "in_file = open('cv_results.pkl', 'rb')\n",
    "cv_results = pickle.load(in_file)\n",
    "in_file.close()\n",
    "\n",
    "in_file = open(r'cv_results_70-280_trees.pkl', 'rb')\n",
    "results_70 = pickle.load(in_file)\n",
    "in_file.close()\n",
    "\n",
    "in_file = open(r'estimators_10_15_20_results.pkl', 'rb')\n",
    "results_10 = pickle.load(in_file)\n",
    "in_file.close()\n",
    "\n",
    "in_file = open(r'cv_results_30-960.pkl', 'rb')\n",
    "results_30 = pickle.load(in_file)\n",
    "in_file.close()\n",
    "\n",
    "all_results = pd.concat([cv_results, results_70, results_10, results_30])"
   ]
  },
  {
   "cell_type": "code",
   "execution_count": 167,
   "metadata": {
    "collapsed": false
   },
   "outputs": [
    {
     "data": {
      "text/html": [
       "<div>\n",
       "<table border=\"1\" class=\"dataframe\">\n",
       "  <thead>\n",
       "    <tr style=\"text-align: right;\">\n",
       "      <th></th>\n",
       "      <th>mean_fit_time</th>\n",
       "      <th>mean_score_time</th>\n",
       "      <th>mean_test_score</th>\n",
       "      <th>mean_train_score</th>\n",
       "      <th>param_max_depth</th>\n",
       "      <th>param_max_features</th>\n",
       "      <th>param_n_estimators</th>\n",
       "      <th>params</th>\n",
       "      <th>rank_test_score</th>\n",
       "      <th>split0_test_score</th>\n",
       "      <th>...</th>\n",
       "      <th>split7_test_score</th>\n",
       "      <th>split7_train_score</th>\n",
       "      <th>split8_test_score</th>\n",
       "      <th>split8_train_score</th>\n",
       "      <th>split9_test_score</th>\n",
       "      <th>split9_train_score</th>\n",
       "      <th>std_fit_time</th>\n",
       "      <th>std_score_time</th>\n",
       "      <th>std_test_score</th>\n",
       "      <th>std_train_score</th>\n",
       "    </tr>\n",
       "  </thead>\n",
       "  <tbody>\n",
       "    <tr>\n",
       "      <th>0</th>\n",
       "      <td>168.199100</td>\n",
       "      <td>0.119900</td>\n",
       "      <td>0.272646</td>\n",
       "      <td>0.892008</td>\n",
       "      <td>None</td>\n",
       "      <td>auto</td>\n",
       "      <td>30</td>\n",
       "      <td>{u'max_features': u'auto', u'n_estimators': 30...</td>\n",
       "      <td>2</td>\n",
       "      <td>0.257010</td>\n",
       "      <td>...</td>\n",
       "      <td>0.234434</td>\n",
       "      <td>0.889945</td>\n",
       "      <td>0.319497</td>\n",
       "      <td>0.891846</td>\n",
       "      <td>0.283464</td>\n",
       "      <td>0.892669</td>\n",
       "      <td>0.635546</td>\n",
       "      <td>0.011371</td>\n",
       "      <td>0.029616</td>\n",
       "      <td>0.001130</td>\n",
       "    </tr>\n",
       "    <tr>\n",
       "      <th>1</th>\n",
       "      <td>274.298900</td>\n",
       "      <td>0.109200</td>\n",
       "      <td>0.282562</td>\n",
       "      <td>0.896931</td>\n",
       "      <td>None</td>\n",
       "      <td>auto</td>\n",
       "      <td>50</td>\n",
       "      <td>{u'max_features': u'auto', u'n_estimators': 50...</td>\n",
       "      <td>1</td>\n",
       "      <td>0.308392</td>\n",
       "      <td>...</td>\n",
       "      <td>0.279883</td>\n",
       "      <td>0.896649</td>\n",
       "      <td>0.327571</td>\n",
       "      <td>0.894319</td>\n",
       "      <td>0.279276</td>\n",
       "      <td>0.899220</td>\n",
       "      <td>0.958514</td>\n",
       "      <td>0.002676</td>\n",
       "      <td>0.033601</td>\n",
       "      <td>0.001494</td>\n",
       "    </tr>\n",
       "    <tr>\n",
       "      <th>0</th>\n",
       "      <td>65.734608</td>\n",
       "      <td>0.129790</td>\n",
       "      <td>0.308585</td>\n",
       "      <td>0.901858</td>\n",
       "      <td>None</td>\n",
       "      <td>NaN</td>\n",
       "      <td>70</td>\n",
       "      <td>{u'n_estimators': 70, u'max_depth': None}</td>\n",
       "      <td>3</td>\n",
       "      <td>0.310827</td>\n",
       "      <td>...</td>\n",
       "      <td>0.297760</td>\n",
       "      <td>0.900431</td>\n",
       "      <td>0.314640</td>\n",
       "      <td>0.900591</td>\n",
       "      <td>0.306275</td>\n",
       "      <td>0.901278</td>\n",
       "      <td>0.350637</td>\n",
       "      <td>0.002049</td>\n",
       "      <td>0.016057</td>\n",
       "      <td>0.000849</td>\n",
       "    </tr>\n",
       "    <tr>\n",
       "      <th>1</th>\n",
       "      <td>131.277805</td>\n",
       "      <td>0.238249</td>\n",
       "      <td>0.316035</td>\n",
       "      <td>0.904124</td>\n",
       "      <td>None</td>\n",
       "      <td>NaN</td>\n",
       "      <td>140</td>\n",
       "      <td>{u'n_estimators': 140, u'max_depth': None}</td>\n",
       "      <td>1</td>\n",
       "      <td>0.322520</td>\n",
       "      <td>...</td>\n",
       "      <td>0.320335</td>\n",
       "      <td>0.904682</td>\n",
       "      <td>0.315095</td>\n",
       "      <td>0.903823</td>\n",
       "      <td>0.310711</td>\n",
       "      <td>0.903589</td>\n",
       "      <td>0.568866</td>\n",
       "      <td>0.003949</td>\n",
       "      <td>0.011735</td>\n",
       "      <td>0.000824</td>\n",
       "    </tr>\n",
       "    <tr>\n",
       "      <th>2</th>\n",
       "      <td>261.344831</td>\n",
       "      <td>0.350556</td>\n",
       "      <td>0.315946</td>\n",
       "      <td>0.905359</td>\n",
       "      <td>None</td>\n",
       "      <td>NaN</td>\n",
       "      <td>280</td>\n",
       "      <td>{u'n_estimators': 280, u'max_depth': None}</td>\n",
       "      <td>2</td>\n",
       "      <td>0.321872</td>\n",
       "      <td>...</td>\n",
       "      <td>0.321918</td>\n",
       "      <td>0.904903</td>\n",
       "      <td>0.316069</td>\n",
       "      <td>0.904712</td>\n",
       "      <td>0.315419</td>\n",
       "      <td>0.905090</td>\n",
       "      <td>0.832088</td>\n",
       "      <td>0.014093</td>\n",
       "      <td>0.010406</td>\n",
       "      <td>0.000668</td>\n",
       "    </tr>\n",
       "    <tr>\n",
       "      <th>3</th>\n",
       "      <td>0.805407</td>\n",
       "      <td>0.122033</td>\n",
       "      <td>0.133994</td>\n",
       "      <td>0.150324</td>\n",
       "      <td>3</td>\n",
       "      <td>NaN</td>\n",
       "      <td>70</td>\n",
       "      <td>{u'n_estimators': 70, u'max_depth': 3}</td>\n",
       "      <td>12</td>\n",
       "      <td>0.131154</td>\n",
       "      <td>...</td>\n",
       "      <td>0.131590</td>\n",
       "      <td>0.149693</td>\n",
       "      <td>0.130157</td>\n",
       "      <td>0.146900</td>\n",
       "      <td>0.118817</td>\n",
       "      <td>0.147252</td>\n",
       "      <td>0.072117</td>\n",
       "      <td>0.004038</td>\n",
       "      <td>0.010771</td>\n",
       "      <td>0.003926</td>\n",
       "    </tr>\n",
       "    <tr>\n",
       "      <th>4</th>\n",
       "      <td>1.483356</td>\n",
       "      <td>0.224487</td>\n",
       "      <td>0.136346</td>\n",
       "      <td>0.151551</td>\n",
       "      <td>3</td>\n",
       "      <td>NaN</td>\n",
       "      <td>140</td>\n",
       "      <td>{u'n_estimators': 140, u'max_depth': 3}</td>\n",
       "      <td>11</td>\n",
       "      <td>0.130118</td>\n",
       "      <td>...</td>\n",
       "      <td>0.135830</td>\n",
       "      <td>0.152401</td>\n",
       "      <td>0.139979</td>\n",
       "      <td>0.155064</td>\n",
       "      <td>0.123969</td>\n",
       "      <td>0.147867</td>\n",
       "      <td>0.015014</td>\n",
       "      <td>0.003772</td>\n",
       "      <td>0.011278</td>\n",
       "      <td>0.003382</td>\n",
       "    </tr>\n",
       "    <tr>\n",
       "      <th>5</th>\n",
       "      <td>2.791728</td>\n",
       "      <td>0.327700</td>\n",
       "      <td>0.136749</td>\n",
       "      <td>0.151398</td>\n",
       "      <td>3</td>\n",
       "      <td>NaN</td>\n",
       "      <td>280</td>\n",
       "      <td>{u'n_estimators': 280, u'max_depth': 3}</td>\n",
       "      <td>10</td>\n",
       "      <td>0.130282</td>\n",
       "      <td>...</td>\n",
       "      <td>0.132725</td>\n",
       "      <td>0.149482</td>\n",
       "      <td>0.138408</td>\n",
       "      <td>0.152186</td>\n",
       "      <td>0.127187</td>\n",
       "      <td>0.148865</td>\n",
       "      <td>0.029926</td>\n",
       "      <td>0.002558</td>\n",
       "      <td>0.011136</td>\n",
       "      <td>0.003055</td>\n",
       "    </tr>\n",
       "    <tr>\n",
       "      <th>6</th>\n",
       "      <td>1.387093</td>\n",
       "      <td>0.124532</td>\n",
       "      <td>0.205288</td>\n",
       "      <td>0.269345</td>\n",
       "      <td>6</td>\n",
       "      <td>NaN</td>\n",
       "      <td>70</td>\n",
       "      <td>{u'n_estimators': 70, u'max_depth': 6}</td>\n",
       "      <td>8</td>\n",
       "      <td>0.203845</td>\n",
       "      <td>...</td>\n",
       "      <td>0.196250</td>\n",
       "      <td>0.271288</td>\n",
       "      <td>0.187428</td>\n",
       "      <td>0.271101</td>\n",
       "      <td>0.216595</td>\n",
       "      <td>0.268084</td>\n",
       "      <td>0.024814</td>\n",
       "      <td>0.000771</td>\n",
       "      <td>0.016028</td>\n",
       "      <td>0.003530</td>\n",
       "    </tr>\n",
       "    <tr>\n",
       "      <th>7</th>\n",
       "      <td>2.574112</td>\n",
       "      <td>0.217437</td>\n",
       "      <td>0.204334</td>\n",
       "      <td>0.269277</td>\n",
       "      <td>6</td>\n",
       "      <td>NaN</td>\n",
       "      <td>140</td>\n",
       "      <td>{u'n_estimators': 140, u'max_depth': 6}</td>\n",
       "      <td>9</td>\n",
       "      <td>0.201545</td>\n",
       "      <td>...</td>\n",
       "      <td>0.198033</td>\n",
       "      <td>0.272087</td>\n",
       "      <td>0.187292</td>\n",
       "      <td>0.271421</td>\n",
       "      <td>0.211635</td>\n",
       "      <td>0.268121</td>\n",
       "      <td>0.051165</td>\n",
       "      <td>0.036453</td>\n",
       "      <td>0.016061</td>\n",
       "      <td>0.003276</td>\n",
       "    </tr>\n",
       "    <tr>\n",
       "      <th>8</th>\n",
       "      <td>4.977634</td>\n",
       "      <td>0.317052</td>\n",
       "      <td>0.205960</td>\n",
       "      <td>0.269579</td>\n",
       "      <td>6</td>\n",
       "      <td>NaN</td>\n",
       "      <td>280</td>\n",
       "      <td>{u'n_estimators': 280, u'max_depth': 6}</td>\n",
       "      <td>7</td>\n",
       "      <td>0.204583</td>\n",
       "      <td>...</td>\n",
       "      <td>0.197937</td>\n",
       "      <td>0.271513</td>\n",
       "      <td>0.190057</td>\n",
       "      <td>0.271467</td>\n",
       "      <td>0.214114</td>\n",
       "      <td>0.268363</td>\n",
       "      <td>0.076171</td>\n",
       "      <td>0.035531</td>\n",
       "      <td>0.015676</td>\n",
       "      <td>0.003290</td>\n",
       "    </tr>\n",
       "    <tr>\n",
       "      <th>9</th>\n",
       "      <td>3.761953</td>\n",
       "      <td>0.123765</td>\n",
       "      <td>0.271563</td>\n",
       "      <td>0.523270</td>\n",
       "      <td>15</td>\n",
       "      <td>NaN</td>\n",
       "      <td>70</td>\n",
       "      <td>{u'n_estimators': 70, u'max_depth': 15}</td>\n",
       "      <td>6</td>\n",
       "      <td>0.266861</td>\n",
       "      <td>...</td>\n",
       "      <td>0.266548</td>\n",
       "      <td>0.526234</td>\n",
       "      <td>0.250751</td>\n",
       "      <td>0.525097</td>\n",
       "      <td>0.295546</td>\n",
       "      <td>0.522990</td>\n",
       "      <td>0.061329</td>\n",
       "      <td>0.001187</td>\n",
       "      <td>0.018127</td>\n",
       "      <td>0.003406</td>\n",
       "    </tr>\n",
       "    <tr>\n",
       "      <th>10</th>\n",
       "      <td>7.222546</td>\n",
       "      <td>0.225842</td>\n",
       "      <td>0.274500</td>\n",
       "      <td>0.524506</td>\n",
       "      <td>15</td>\n",
       "      <td>NaN</td>\n",
       "      <td>140</td>\n",
       "      <td>{u'n_estimators': 140, u'max_depth': 15}</td>\n",
       "      <td>5</td>\n",
       "      <td>0.267257</td>\n",
       "      <td>...</td>\n",
       "      <td>0.267214</td>\n",
       "      <td>0.527117</td>\n",
       "      <td>0.256536</td>\n",
       "      <td>0.526076</td>\n",
       "      <td>0.294512</td>\n",
       "      <td>0.524394</td>\n",
       "      <td>0.062158</td>\n",
       "      <td>0.001329</td>\n",
       "      <td>0.016359</td>\n",
       "      <td>0.003833</td>\n",
       "    </tr>\n",
       "    <tr>\n",
       "      <th>11</th>\n",
       "      <td>14.227213</td>\n",
       "      <td>0.304639</td>\n",
       "      <td>0.276418</td>\n",
       "      <td>0.525076</td>\n",
       "      <td>15</td>\n",
       "      <td>NaN</td>\n",
       "      <td>280</td>\n",
       "      <td>{u'n_estimators': 280, u'max_depth': 15}</td>\n",
       "      <td>4</td>\n",
       "      <td>0.269152</td>\n",
       "      <td>...</td>\n",
       "      <td>0.270012</td>\n",
       "      <td>0.527271</td>\n",
       "      <td>0.258850</td>\n",
       "      <td>0.525400</td>\n",
       "      <td>0.299533</td>\n",
       "      <td>0.526827</td>\n",
       "      <td>0.066966</td>\n",
       "      <td>0.046015</td>\n",
       "      <td>0.017815</td>\n",
       "      <td>0.003553</td>\n",
       "    </tr>\n",
       "    <tr>\n",
       "      <th>0</th>\n",
       "      <td>110.791800</td>\n",
       "      <td>0.140300</td>\n",
       "      <td>0.231640</td>\n",
       "      <td>0.867164</td>\n",
       "      <td>None</td>\n",
       "      <td>auto</td>\n",
       "      <td>10</td>\n",
       "      <td>{u'max_features': u'auto', u'n_estimators': 10...</td>\n",
       "      <td>3</td>\n",
       "      <td>0.258643</td>\n",
       "      <td>...</td>\n",
       "      <td>0.200108</td>\n",
       "      <td>0.868109</td>\n",
       "      <td>0.261109</td>\n",
       "      <td>0.866696</td>\n",
       "      <td>0.241364</td>\n",
       "      <td>0.863417</td>\n",
       "      <td>0.476332</td>\n",
       "      <td>0.002052</td>\n",
       "      <td>0.032857</td>\n",
       "      <td>0.002652</td>\n",
       "    </tr>\n",
       "    <tr>\n",
       "      <th>1</th>\n",
       "      <td>174.396900</td>\n",
       "      <td>0.146800</td>\n",
       "      <td>0.256428</td>\n",
       "      <td>0.880033</td>\n",
       "      <td>None</td>\n",
       "      <td>auto</td>\n",
       "      <td>15</td>\n",
       "      <td>{u'max_features': u'auto', u'n_estimators': 15...</td>\n",
       "      <td>2</td>\n",
       "      <td>0.264612</td>\n",
       "      <td>...</td>\n",
       "      <td>0.217610</td>\n",
       "      <td>0.880801</td>\n",
       "      <td>0.315892</td>\n",
       "      <td>0.879174</td>\n",
       "      <td>0.243425</td>\n",
       "      <td>0.879282</td>\n",
       "      <td>0.725620</td>\n",
       "      <td>0.012335</td>\n",
       "      <td>0.032923</td>\n",
       "      <td>0.001523</td>\n",
       "    </tr>\n",
       "    <tr>\n",
       "      <th>2</th>\n",
       "      <td>220.237200</td>\n",
       "      <td>0.114500</td>\n",
       "      <td>0.269047</td>\n",
       "      <td>0.885733</td>\n",
       "      <td>None</td>\n",
       "      <td>auto</td>\n",
       "      <td>20</td>\n",
       "      <td>{u'max_features': u'auto', u'n_estimators': 20...</td>\n",
       "      <td>1</td>\n",
       "      <td>0.279441</td>\n",
       "      <td>...</td>\n",
       "      <td>0.259356</td>\n",
       "      <td>0.883682</td>\n",
       "      <td>0.310708</td>\n",
       "      <td>0.881937</td>\n",
       "      <td>0.268190</td>\n",
       "      <td>0.887703</td>\n",
       "      <td>1.065933</td>\n",
       "      <td>0.005390</td>\n",
       "      <td>0.028736</td>\n",
       "      <td>0.001897</td>\n",
       "    </tr>\n",
       "    <tr>\n",
       "      <th>0</th>\n",
       "      <td>17.166273</td>\n",
       "      <td>0.168479</td>\n",
       "      <td>0.300963</td>\n",
       "      <td>0.716108</td>\n",
       "      <td>30</td>\n",
       "      <td>NaN</td>\n",
       "      <td>140</td>\n",
       "      <td>{u'n_estimators': 140, u'max_depth': 30}</td>\n",
       "      <td>6</td>\n",
       "      <td>0.303667</td>\n",
       "      <td>...</td>\n",
       "      <td>0.293483</td>\n",
       "      <td>0.714850</td>\n",
       "      <td>0.297864</td>\n",
       "      <td>0.716538</td>\n",
       "      <td>0.304512</td>\n",
       "      <td>0.719708</td>\n",
       "      <td>0.132676</td>\n",
       "      <td>0.056653</td>\n",
       "      <td>0.012043</td>\n",
       "      <td>0.002088</td>\n",
       "    </tr>\n",
       "    <tr>\n",
       "      <th>1</th>\n",
       "      <td>36.201256</td>\n",
       "      <td>0.192098</td>\n",
       "      <td>0.307586</td>\n",
       "      <td>0.837334</td>\n",
       "      <td>60</td>\n",
       "      <td>NaN</td>\n",
       "      <td>140</td>\n",
       "      <td>{u'n_estimators': 140, u'max_depth': 60}</td>\n",
       "      <td>5</td>\n",
       "      <td>0.306112</td>\n",
       "      <td>...</td>\n",
       "      <td>0.309253</td>\n",
       "      <td>0.835499</td>\n",
       "      <td>0.308171</td>\n",
       "      <td>0.836295</td>\n",
       "      <td>0.310909</td>\n",
       "      <td>0.840575</td>\n",
       "      <td>0.235951</td>\n",
       "      <td>0.052166</td>\n",
       "      <td>0.010776</td>\n",
       "      <td>0.001302</td>\n",
       "    </tr>\n",
       "    <tr>\n",
       "      <th>2</th>\n",
       "      <td>68.719439</td>\n",
       "      <td>0.214726</td>\n",
       "      <td>0.311421</td>\n",
       "      <td>0.887471</td>\n",
       "      <td>120</td>\n",
       "      <td>NaN</td>\n",
       "      <td>140</td>\n",
       "      <td>{u'n_estimators': 140, u'max_depth': 120}</td>\n",
       "      <td>4</td>\n",
       "      <td>0.324804</td>\n",
       "      <td>...</td>\n",
       "      <td>0.314951</td>\n",
       "      <td>0.885701</td>\n",
       "      <td>0.316566</td>\n",
       "      <td>0.887457</td>\n",
       "      <td>0.310875</td>\n",
       "      <td>0.888405</td>\n",
       "      <td>0.243334</td>\n",
       "      <td>0.033940</td>\n",
       "      <td>0.012028</td>\n",
       "      <td>0.000858</td>\n",
       "    </tr>\n",
       "    <tr>\n",
       "      <th>3</th>\n",
       "      <td>114.769140</td>\n",
       "      <td>0.232839</td>\n",
       "      <td>0.315053</td>\n",
       "      <td>0.903178</td>\n",
       "      <td>240</td>\n",
       "      <td>NaN</td>\n",
       "      <td>140</td>\n",
       "      <td>{u'n_estimators': 140, u'max_depth': 240}</td>\n",
       "      <td>2</td>\n",
       "      <td>0.319016</td>\n",
       "      <td>...</td>\n",
       "      <td>0.316475</td>\n",
       "      <td>0.901711</td>\n",
       "      <td>0.318345</td>\n",
       "      <td>0.902909</td>\n",
       "      <td>0.318664</td>\n",
       "      <td>0.903488</td>\n",
       "      <td>1.213230</td>\n",
       "      <td>0.007005</td>\n",
       "      <td>0.011947</td>\n",
       "      <td>0.000765</td>\n",
       "    </tr>\n",
       "    <tr>\n",
       "      <th>4</th>\n",
       "      <td>131.334470</td>\n",
       "      <td>0.233460</td>\n",
       "      <td>0.315361</td>\n",
       "      <td>0.904222</td>\n",
       "      <td>480</td>\n",
       "      <td>NaN</td>\n",
       "      <td>140</td>\n",
       "      <td>{u'n_estimators': 140, u'max_depth': 480}</td>\n",
       "      <td>1</td>\n",
       "      <td>0.313603</td>\n",
       "      <td>...</td>\n",
       "      <td>0.320043</td>\n",
       "      <td>0.903876</td>\n",
       "      <td>0.316385</td>\n",
       "      <td>0.903931</td>\n",
       "      <td>0.309723</td>\n",
       "      <td>0.905439</td>\n",
       "      <td>0.589244</td>\n",
       "      <td>0.004825</td>\n",
       "      <td>0.010634</td>\n",
       "      <td>0.000675</td>\n",
       "    </tr>\n",
       "    <tr>\n",
       "      <th>5</th>\n",
       "      <td>131.671331</td>\n",
       "      <td>0.234549</td>\n",
       "      <td>0.314748</td>\n",
       "      <td>0.904338</td>\n",
       "      <td>960</td>\n",
       "      <td>NaN</td>\n",
       "      <td>140</td>\n",
       "      <td>{u'n_estimators': 140, u'max_depth': 960}</td>\n",
       "      <td>3</td>\n",
       "      <td>0.315011</td>\n",
       "      <td>...</td>\n",
       "      <td>0.323911</td>\n",
       "      <td>0.902972</td>\n",
       "      <td>0.313653</td>\n",
       "      <td>0.903595</td>\n",
       "      <td>0.313053</td>\n",
       "      <td>0.904255</td>\n",
       "      <td>0.366754</td>\n",
       "      <td>0.004281</td>\n",
       "      <td>0.010651</td>\n",
       "      <td>0.000891</td>\n",
       "    </tr>\n",
       "  </tbody>\n",
       "</table>\n",
       "<p>23 rows × 33 columns</p>\n",
       "</div>"
      ],
      "text/plain": [
       "    mean_fit_time  mean_score_time  mean_test_score  mean_train_score  \\\n",
       "0      168.199100         0.119900         0.272646          0.892008   \n",
       "1      274.298900         0.109200         0.282562          0.896931   \n",
       "0       65.734608         0.129790         0.308585          0.901858   \n",
       "1      131.277805         0.238249         0.316035          0.904124   \n",
       "2      261.344831         0.350556         0.315946          0.905359   \n",
       "3        0.805407         0.122033         0.133994          0.150324   \n",
       "4        1.483356         0.224487         0.136346          0.151551   \n",
       "5        2.791728         0.327700         0.136749          0.151398   \n",
       "6        1.387093         0.124532         0.205288          0.269345   \n",
       "7        2.574112         0.217437         0.204334          0.269277   \n",
       "8        4.977634         0.317052         0.205960          0.269579   \n",
       "9        3.761953         0.123765         0.271563          0.523270   \n",
       "10       7.222546         0.225842         0.274500          0.524506   \n",
       "11      14.227213         0.304639         0.276418          0.525076   \n",
       "0      110.791800         0.140300         0.231640          0.867164   \n",
       "1      174.396900         0.146800         0.256428          0.880033   \n",
       "2      220.237200         0.114500         0.269047          0.885733   \n",
       "0       17.166273         0.168479         0.300963          0.716108   \n",
       "1       36.201256         0.192098         0.307586          0.837334   \n",
       "2       68.719439         0.214726         0.311421          0.887471   \n",
       "3      114.769140         0.232839         0.315053          0.903178   \n",
       "4      131.334470         0.233460         0.315361          0.904222   \n",
       "5      131.671331         0.234549         0.314748          0.904338   \n",
       "\n",
       "   param_max_depth param_max_features param_n_estimators  \\\n",
       "0             None               auto                 30   \n",
       "1             None               auto                 50   \n",
       "0             None                NaN                 70   \n",
       "1             None                NaN                140   \n",
       "2             None                NaN                280   \n",
       "3                3                NaN                 70   \n",
       "4                3                NaN                140   \n",
       "5                3                NaN                280   \n",
       "6                6                NaN                 70   \n",
       "7                6                NaN                140   \n",
       "8                6                NaN                280   \n",
       "9               15                NaN                 70   \n",
       "10              15                NaN                140   \n",
       "11              15                NaN                280   \n",
       "0             None               auto                 10   \n",
       "1             None               auto                 15   \n",
       "2             None               auto                 20   \n",
       "0               30                NaN                140   \n",
       "1               60                NaN                140   \n",
       "2              120                NaN                140   \n",
       "3              240                NaN                140   \n",
       "4              480                NaN                140   \n",
       "5              960                NaN                140   \n",
       "\n",
       "                                               params  rank_test_score  \\\n",
       "0   {u'max_features': u'auto', u'n_estimators': 30...                2   \n",
       "1   {u'max_features': u'auto', u'n_estimators': 50...                1   \n",
       "0           {u'n_estimators': 70, u'max_depth': None}                3   \n",
       "1          {u'n_estimators': 140, u'max_depth': None}                1   \n",
       "2          {u'n_estimators': 280, u'max_depth': None}                2   \n",
       "3              {u'n_estimators': 70, u'max_depth': 3}               12   \n",
       "4             {u'n_estimators': 140, u'max_depth': 3}               11   \n",
       "5             {u'n_estimators': 280, u'max_depth': 3}               10   \n",
       "6              {u'n_estimators': 70, u'max_depth': 6}                8   \n",
       "7             {u'n_estimators': 140, u'max_depth': 6}                9   \n",
       "8             {u'n_estimators': 280, u'max_depth': 6}                7   \n",
       "9             {u'n_estimators': 70, u'max_depth': 15}                6   \n",
       "10           {u'n_estimators': 140, u'max_depth': 15}                5   \n",
       "11           {u'n_estimators': 280, u'max_depth': 15}                4   \n",
       "0   {u'max_features': u'auto', u'n_estimators': 10...                3   \n",
       "1   {u'max_features': u'auto', u'n_estimators': 15...                2   \n",
       "2   {u'max_features': u'auto', u'n_estimators': 20...                1   \n",
       "0            {u'n_estimators': 140, u'max_depth': 30}                6   \n",
       "1            {u'n_estimators': 140, u'max_depth': 60}                5   \n",
       "2           {u'n_estimators': 140, u'max_depth': 120}                4   \n",
       "3           {u'n_estimators': 140, u'max_depth': 240}                2   \n",
       "4           {u'n_estimators': 140, u'max_depth': 480}                1   \n",
       "5           {u'n_estimators': 140, u'max_depth': 960}                3   \n",
       "\n",
       "    split0_test_score       ...         split7_test_score  split7_train_score  \\\n",
       "0            0.257010       ...                  0.234434            0.889945   \n",
       "1            0.308392       ...                  0.279883            0.896649   \n",
       "0            0.310827       ...                  0.297760            0.900431   \n",
       "1            0.322520       ...                  0.320335            0.904682   \n",
       "2            0.321872       ...                  0.321918            0.904903   \n",
       "3            0.131154       ...                  0.131590            0.149693   \n",
       "4            0.130118       ...                  0.135830            0.152401   \n",
       "5            0.130282       ...                  0.132725            0.149482   \n",
       "6            0.203845       ...                  0.196250            0.271288   \n",
       "7            0.201545       ...                  0.198033            0.272087   \n",
       "8            0.204583       ...                  0.197937            0.271513   \n",
       "9            0.266861       ...                  0.266548            0.526234   \n",
       "10           0.267257       ...                  0.267214            0.527117   \n",
       "11           0.269152       ...                  0.270012            0.527271   \n",
       "0            0.258643       ...                  0.200108            0.868109   \n",
       "1            0.264612       ...                  0.217610            0.880801   \n",
       "2            0.279441       ...                  0.259356            0.883682   \n",
       "0            0.303667       ...                  0.293483            0.714850   \n",
       "1            0.306112       ...                  0.309253            0.835499   \n",
       "2            0.324804       ...                  0.314951            0.885701   \n",
       "3            0.319016       ...                  0.316475            0.901711   \n",
       "4            0.313603       ...                  0.320043            0.903876   \n",
       "5            0.315011       ...                  0.323911            0.902972   \n",
       "\n",
       "    split8_test_score  split8_train_score  split9_test_score  \\\n",
       "0            0.319497            0.891846           0.283464   \n",
       "1            0.327571            0.894319           0.279276   \n",
       "0            0.314640            0.900591           0.306275   \n",
       "1            0.315095            0.903823           0.310711   \n",
       "2            0.316069            0.904712           0.315419   \n",
       "3            0.130157            0.146900           0.118817   \n",
       "4            0.139979            0.155064           0.123969   \n",
       "5            0.138408            0.152186           0.127187   \n",
       "6            0.187428            0.271101           0.216595   \n",
       "7            0.187292            0.271421           0.211635   \n",
       "8            0.190057            0.271467           0.214114   \n",
       "9            0.250751            0.525097           0.295546   \n",
       "10           0.256536            0.526076           0.294512   \n",
       "11           0.258850            0.525400           0.299533   \n",
       "0            0.261109            0.866696           0.241364   \n",
       "1            0.315892            0.879174           0.243425   \n",
       "2            0.310708            0.881937           0.268190   \n",
       "0            0.297864            0.716538           0.304512   \n",
       "1            0.308171            0.836295           0.310909   \n",
       "2            0.316566            0.887457           0.310875   \n",
       "3            0.318345            0.902909           0.318664   \n",
       "4            0.316385            0.903931           0.309723   \n",
       "5            0.313653            0.903595           0.313053   \n",
       "\n",
       "    split9_train_score  std_fit_time  std_score_time  std_test_score  \\\n",
       "0             0.892669      0.635546        0.011371        0.029616   \n",
       "1             0.899220      0.958514        0.002676        0.033601   \n",
       "0             0.901278      0.350637        0.002049        0.016057   \n",
       "1             0.903589      0.568866        0.003949        0.011735   \n",
       "2             0.905090      0.832088        0.014093        0.010406   \n",
       "3             0.147252      0.072117        0.004038        0.010771   \n",
       "4             0.147867      0.015014        0.003772        0.011278   \n",
       "5             0.148865      0.029926        0.002558        0.011136   \n",
       "6             0.268084      0.024814        0.000771        0.016028   \n",
       "7             0.268121      0.051165        0.036453        0.016061   \n",
       "8             0.268363      0.076171        0.035531        0.015676   \n",
       "9             0.522990      0.061329        0.001187        0.018127   \n",
       "10            0.524394      0.062158        0.001329        0.016359   \n",
       "11            0.526827      0.066966        0.046015        0.017815   \n",
       "0             0.863417      0.476332        0.002052        0.032857   \n",
       "1             0.879282      0.725620        0.012335        0.032923   \n",
       "2             0.887703      1.065933        0.005390        0.028736   \n",
       "0             0.719708      0.132676        0.056653        0.012043   \n",
       "1             0.840575      0.235951        0.052166        0.010776   \n",
       "2             0.888405      0.243334        0.033940        0.012028   \n",
       "3             0.903488      1.213230        0.007005        0.011947   \n",
       "4             0.905439      0.589244        0.004825        0.010634   \n",
       "5             0.904255      0.366754        0.004281        0.010651   \n",
       "\n",
       "    std_train_score  \n",
       "0          0.001130  \n",
       "1          0.001494  \n",
       "0          0.000849  \n",
       "1          0.000824  \n",
       "2          0.000668  \n",
       "3          0.003926  \n",
       "4          0.003382  \n",
       "5          0.003055  \n",
       "6          0.003530  \n",
       "7          0.003276  \n",
       "8          0.003290  \n",
       "9          0.003406  \n",
       "10         0.003833  \n",
       "11         0.003553  \n",
       "0          0.002652  \n",
       "1          0.001523  \n",
       "2          0.001897  \n",
       "0          0.002088  \n",
       "1          0.001302  \n",
       "2          0.000858  \n",
       "3          0.000765  \n",
       "4          0.000675  \n",
       "5          0.000891  \n",
       "\n",
       "[23 rows x 33 columns]"
      ]
     },
     "execution_count": 167,
     "metadata": {},
     "output_type": "execute_result"
    }
   ],
   "source": [
    "all_results"
   ]
  },
  {
   "cell_type": "markdown",
   "metadata": {},
   "source": [
    "# Feature importances"
   ]
  },
  {
   "cell_type": "code",
   "execution_count": 115,
   "metadata": {
    "collapsed": false
   },
   "outputs": [],
   "source": [
    "payment_feature_importances = np.load('feature_importances.npy')"
   ]
  },
  {
   "cell_type": "code",
   "execution_count": 116,
   "metadata": {
    "collapsed": true
   },
   "outputs": [],
   "source": [
    "no_payment_feature_importances = np.load('no_payment_feature_importances.npy')"
   ]
  },
  {
   "cell_type": "code",
   "execution_count": 117,
   "metadata": {
    "collapsed": true
   },
   "outputs": [],
   "source": [
    "no_payment_features = np.load('no_payment_features.npy')"
   ]
  },
  {
   "cell_type": "code",
   "execution_count": 118,
   "metadata": {
    "collapsed": true
   },
   "outputs": [],
   "source": [
    "in_file = open('features.pkl')\n",
    "payment_features = pickle.load(in_file)\n",
    "in_file.close()"
   ]
  },
  {
   "cell_type": "code",
   "execution_count": null,
   "metadata": {
    "collapsed": false
   },
   "outputs": [],
   "source": []
  },
  {
   "cell_type": "code",
   "execution_count": 119,
   "metadata": {
    "collapsed": false
   },
   "outputs": [],
   "source": [
    "payment_features = pd.DataFrame(payment_features)\n",
    "no_payment_features = pd.DataFrame(no_payment_features)\n",
    "payment_features.columns = ['feature']\n",
    "no_payment_features.columns = ['feature']"
   ]
  },
  {
   "cell_type": "code",
   "execution_count": 120,
   "metadata": {
    "collapsed": false
   },
   "outputs": [],
   "source": [
    "payment_features['importance'] = payment_feature_importances\n",
    "no_payment_features['importance'] = no_payment_feature_importances"
   ]
  },
  {
   "cell_type": "code",
   "execution_count": 155,
   "metadata": {
    "collapsed": false
   },
   "outputs": [
    {
     "data": {
      "text/html": [
       "<div>\n",
       "<table border=\"1\" class=\"dataframe\">\n",
       "  <thead>\n",
       "    <tr style=\"text-align: right;\">\n",
       "      <th></th>\n",
       "      <th>feature</th>\n",
       "      <th>importance</th>\n",
       "    </tr>\n",
       "  </thead>\n",
       "  <tbody>\n",
       "    <tr>\n",
       "      <th>3612</th>\n",
       "      <td>Novo Nordisk Inc</td>\n",
       "      <td>0.045810</td>\n",
       "    </tr>\n",
       "    <tr>\n",
       "      <th>3355</th>\n",
       "      <td>Janssen Pharmaceuticals, Inc</td>\n",
       "      <td>0.035798</td>\n",
       "    </tr>\n",
       "    <tr>\n",
       "      <th>1349</th>\n",
       "      <td>LEVOTHYROXINE SODIUM</td>\n",
       "      <td>0.032142</td>\n",
       "    </tr>\n",
       "    <tr>\n",
       "      <th>2784</th>\n",
       "      <td>AstraZeneca Pharmaceuticals LP</td>\n",
       "      <td>0.030318</td>\n",
       "    </tr>\n",
       "    <tr>\n",
       "      <th>2123</th>\n",
       "      <td>SIMVASTATIN</td>\n",
       "      <td>0.029629</td>\n",
       "    </tr>\n",
       "  </tbody>\n",
       "</table>\n",
       "</div>"
      ],
      "text/plain": [
       "                             feature  importance\n",
       "3612                Novo Nordisk Inc    0.045810\n",
       "3355    Janssen Pharmaceuticals, Inc    0.035798\n",
       "1349            LEVOTHYROXINE SODIUM    0.032142\n",
       "2784  AstraZeneca Pharmaceuticals LP    0.030318\n",
       "2123                     SIMVASTATIN    0.029629"
      ]
     },
     "execution_count": 155,
     "metadata": {},
     "output_type": "execute_result"
    }
   ],
   "source": [
    "payment_features.sort_values('importance', ascending=False).head()"
   ]
  },
  {
   "cell_type": "code",
   "execution_count": 157,
   "metadata": {
    "collapsed": false
   },
   "outputs": [
    {
     "data": {
      "text/html": [
       "<div>\n",
       "<table border=\"1\" class=\"dataframe\">\n",
       "  <thead>\n",
       "    <tr style=\"text-align: right;\">\n",
       "      <th></th>\n",
       "      <th>feature</th>\n",
       "      <th>importance</th>\n",
       "    </tr>\n",
       "  </thead>\n",
       "  <tbody>\n",
       "    <tr>\n",
       "      <th>1349</th>\n",
       "      <td>LEVOTHYROXINE SODIUM</td>\n",
       "      <td>0.090877</td>\n",
       "    </tr>\n",
       "    <tr>\n",
       "      <th>2123</th>\n",
       "      <td>SIMVASTATIN</td>\n",
       "      <td>0.085321</td>\n",
       "    </tr>\n",
       "    <tr>\n",
       "      <th>226</th>\n",
       "      <td>AMLODIPINE BESYLATE</td>\n",
       "      <td>0.078578</td>\n",
       "    </tr>\n",
       "    <tr>\n",
       "      <th>1368</th>\n",
       "      <td>LISINOPRIL</td>\n",
       "      <td>0.078518</td>\n",
       "    </tr>\n",
       "    <tr>\n",
       "      <th>299</th>\n",
       "      <td>ATORVASTATIN CALCIUM</td>\n",
       "      <td>0.076280</td>\n",
       "    </tr>\n",
       "  </tbody>\n",
       "</table>\n",
       "</div>"
      ],
      "text/plain": [
       "                   feature  importance\n",
       "1349  LEVOTHYROXINE SODIUM    0.090877\n",
       "2123           SIMVASTATIN    0.085321\n",
       "226    AMLODIPINE BESYLATE    0.078578\n",
       "1368            LISINOPRIL    0.078518\n",
       "299   ATORVASTATIN CALCIUM    0.076280"
      ]
     },
     "execution_count": 157,
     "metadata": {},
     "output_type": "execute_result"
    }
   ],
   "source": [
    "no_payment_features.sort_values('importance', ascending=False).head()"
   ]
  }
 ],
 "metadata": {
  "anaconda-cloud": {},
  "kernelspec": {
   "display_name": "Python 2",
   "language": "python",
   "name": "python2"
  },
  "language_info": {
   "codemirror_mode": {
    "name": "ipython",
    "version": 2
   },
   "file_extension": ".py",
   "mimetype": "text/x-python",
   "name": "python",
   "nbconvert_exporter": "python",
   "pygments_lexer": "ipython2",
   "version": "2.7.13"
  }
 },
 "nbformat": 4,
 "nbformat_minor": 1
}

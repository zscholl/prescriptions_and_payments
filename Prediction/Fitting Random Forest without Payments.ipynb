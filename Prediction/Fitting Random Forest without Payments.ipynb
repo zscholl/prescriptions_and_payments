{
 "cells": [
  {
   "cell_type": "code",
   "execution_count": 1,
   "metadata": {
    "collapsed": true
   },
   "outputs": [],
   "source": [
    "import pandas as pd\n",
    "import numpy as np\n",
    "import pickle\n",
    "from scipy.sparse import csr_matrix\n",
    "from sklearn.model_selection import train_test_split\n",
    "from sklearn.ensemble import RandomForestRegressor"
   ]
  },
  {
   "cell_type": "markdown",
   "metadata": {},
   "source": [
    "## Load in the data sets"
   ]
  },
  {
   "cell_type": "code",
   "execution_count": 2,
   "metadata": {
    "collapsed": true
   },
   "outputs": [],
   "source": [
    "def load_sparse_csr(filename):\n",
    "    loader = np.load(filename)\n",
    "    return csr_matrix((loader['data'],\n",
    "                       loader['indices'],\n",
    "                       loader['indptr']), shape=loader['shape'])"
   ]
  },
  {
   "cell_type": "code",
   "execution_count": 5,
   "metadata": {
    "collapsed": false
   },
   "outputs": [],
   "source": [
    "X = load_sparse_csr(r'data_matrix_one-hot_no_payments.npz')"
   ]
  },
  {
   "cell_type": "code",
   "execution_count": 6,
   "metadata": {
    "collapsed": true
   },
   "outputs": [],
   "source": [
    "in_file = open(r'total_day_supply.pkl', 'rb')\n",
    "total_day_supply = pickle.load(in_file)\n",
    "in_file.close()"
   ]
  },
  {
   "cell_type": "code",
   "execution_count": 12,
   "metadata": {
    "collapsed": false
   },
   "outputs": [],
   "source": [
    "X_train, X_test, Y_train, y_test = train_test_split(X, total_day_supply, test_size=0.15)"
   ]
  },
  {
   "cell_type": "code",
   "execution_count": 10,
   "metadata": {
    "collapsed": false
   },
   "outputs": [],
   "source": [
    "clf = RandomForestRegressor(n_estimators=140, n_jobs=3, verbose=2)"
   ]
  },
  {
   "cell_type": "code",
   "execution_count": null,
   "metadata": {
    "collapsed": false,
    "scrolled": true
   },
   "outputs": [
    {
     "name": "stdout",
     "output_type": "stream",
     "text": [
      "building tree 1 of 140 building tree 3 of 140\n",
      "building tree 2 of 140\n",
      "\n",
      "building tree 4 of 140\n",
      "building tree 5 of 140\n",
      "building tree 6 of 140\n",
      "building tree 7 of 140\n",
      "building tree 8 of 140\n",
      "building tree 9 of 140\n",
      "building tree 10 of 140\n",
      "building tree 11 of 140\n",
      "building tree 12 of 140\n",
      "building tree 13 of 140\n",
      "building tree 14 of 140\n",
      "building tree 15 of 140\n",
      "building tree 16 of 140\n",
      "building tree 17 of 140\n",
      "building tree 18 of 140\n",
      "building tree 19 of 140\n",
      "building tree 20 of 140\n",
      "building tree 21 of 140\n",
      "building tree 22 of 140\n",
      "building tree 23 of 140\n",
      "building tree 24 of 140\n",
      "building tree 25 of 140\n",
      "building tree 26 of 140\n",
      "building tree 27 of 140\n",
      "building tree 28 of 140\n",
      "building tree 29 of 140\n",
      "building tree 30 of 140\n",
      "building tree 31 of 140\n",
      "building tree 32 of 140\n",
      "building tree 33 of 140\n",
      "building tree 34 of 140\n",
      "building tree 35 of 140\n",
      "building tree 36 of 140\n",
      "building tree 37 of 140\n",
      "building tree 38 of 140\n"
     ]
    },
    {
     "name": "stderr",
     "output_type": "stream",
     "text": [
      "[Parallel(n_jobs=3)]: Done  35 tasks      | elapsed: 168.8min\n"
     ]
    },
    {
     "name": "stdout",
     "output_type": "stream",
     "text": [
      "building tree 39 of 140\n",
      "building tree 40 of 140\n",
      "building tree 41 of 140\n",
      "building tree 42 of 140\n",
      "building tree 43 of 140\n",
      "building tree 44 of 140\n",
      "building tree 45 of 140\n",
      "building tree 46 of 140\n",
      "building tree 47 of 140\n",
      "building tree 48 of 140\n",
      "building tree 49 of 140\n",
      "building tree 50 of 140\n",
      "building tree 51 of 140\n",
      "building tree 52 of 140\n",
      "building tree 53 of 140\n",
      "building tree 54 of 140\n",
      "building tree 55 of 140\n",
      "building tree 56 of 140\n",
      "building tree 57 of 140\n",
      "building tree 58 of 140\n",
      "building tree 59 of 140\n",
      "building tree 60 of 140\n",
      "building tree 61 of 140\n",
      "building tree 62 of 140\n",
      "building tree 63 of 140\n",
      "building tree 64 of 140\n",
      "building tree 65 of 140\n",
      "building tree 66 of 140\n",
      "building tree 67 of 140\n",
      "building tree 68 of 140\n",
      "building tree 69 of 140\n",
      "building tree 70 of 140\n",
      "building tree 71 of 140\n",
      "building tree 72 of 140\n",
      "building tree 73 of 140\n",
      "building tree 74 of 140\n",
      "building tree 75 of 140\n",
      "building tree 76 of 140\n",
      "building tree 77 of 140\n",
      "building tree 78 of 140\n",
      "building tree 79 of 140\n",
      "building tree 80 of 140\n",
      "building tree 81 of 140\n",
      "building tree 82 of 140\n",
      "building tree 83 of 140\n",
      "building tree 84 of 140\n",
      "building tree 85 of 140\n",
      "building tree 86 of 140\n",
      "building tree 87 of 140\n",
      "building tree 88 of 140\n",
      "building tree 89 of 140\n",
      "building tree 90 of 140\n",
      "building tree 91 of 140\n",
      "building tree 92 of 140\n",
      "building tree 93 of 140\n",
      "building tree 94 of 140\n",
      "building tree 95 of 140\n",
      "building tree 96 of 140\n",
      "building tree 97 of 140\n",
      "building tree 98 of 140\n",
      "building tree 99 of 140\n",
      "building tree 100 of 140\n",
      "building tree 101 of 140\n",
      "building tree 102 of 140\n",
      "building tree 103 of 140\n",
      "building tree 104 of 140\n",
      "building tree 105 of 140\n",
      "building tree 106 of 140\n",
      "building tree 107 of 140\n",
      "building tree 108 of 140\n",
      "building tree 109 of 140\n",
      "building tree 110 of 140\n",
      "building tree 111 of 140\n",
      "building tree 112 of 140\n",
      "building tree 113 of 140\n",
      "building tree 114 of 140\n",
      "building tree 115 of 140\n",
      "building tree 116 of 140\n",
      "building tree 117 of 140\n",
      "building tree 118 of 140\n",
      "building tree 119 of 140\n",
      "building tree 120 of 140\n",
      "building tree 121 of 140\n",
      "building tree 122 of 140\n",
      "building tree 123 of 140\n",
      "building tree 124 of 140\n",
      "building tree 125 of 140\n",
      "building tree 126 of 140\n",
      "building tree 127 of 140\n",
      "building tree 128 of 140\n",
      "building tree 129 of 140\n",
      "building tree 130 of 140\n",
      "building tree 131 of 140\n",
      "building tree 132 of 140\n",
      "building tree 133 of 140\n",
      "building tree 134 of 140\n",
      "building tree 135 of 140\n",
      "building tree 136 of 140\n",
      "building tree 137 of 140\n",
      "building tree 138 of 140\n",
      "building tree 139 of 140\n",
      "building tree 140 of 140\n"
     ]
    },
    {
     "name": "stderr",
     "output_type": "stream",
     "text": [
      "[Parallel(n_jobs=3)]: Done 140 out of 140 | elapsed: 664.7min finished\n"
     ]
    },
    {
     "data": {
      "text/plain": [
       "RandomForestRegressor(bootstrap=True, criterion='mse', max_depth=None,\n",
       "           max_features='auto', max_leaf_nodes=None,\n",
       "           min_impurity_split=1e-07, min_samples_leaf=1,\n",
       "           min_samples_split=2, min_weight_fraction_leaf=0.0,\n",
       "           n_estimators=140, n_jobs=3, oob_score=False, random_state=None,\n",
       "           verbose=2, warm_start=False)"
      ]
     },
     "execution_count": 13,
     "metadata": {},
     "output_type": "execute_result"
    }
   ],
   "source": [
    "clf.fit(X_train, Y_train)"
   ]
  },
  {
   "cell_type": "code",
   "execution_count": 14,
   "metadata": {
    "collapsed": false
   },
   "outputs": [
    {
     "name": "stderr",
     "output_type": "stream",
     "text": [
      "[Parallel(n_jobs=3)]: Done  35 tasks      | elapsed:   38.0s\n",
      "[Parallel(n_jobs=3)]: Done 140 out of 140 | elapsed:  2.5min finished\n"
     ]
    },
    {
     "data": {
      "text/plain": [
       "0.3591909742422108"
      ]
     },
     "execution_count": 14,
     "metadata": {},
     "output_type": "execute_result"
    }
   ],
   "source": [
    "clf.score(X_train, Y_train)"
   ]
  },
  {
   "cell_type": "code",
   "execution_count": 15,
   "metadata": {
    "collapsed": false
   },
   "outputs": [
    {
     "name": "stderr",
     "output_type": "stream",
     "text": [
      "[Parallel(n_jobs=3)]: Done  35 tasks      | elapsed:    6.7s\n",
      "[Parallel(n_jobs=3)]: Done 140 out of 140 | elapsed:   26.1s finished\n"
     ]
    },
    {
     "data": {
      "text/plain": [
       "0.3587591871414455"
      ]
     },
     "execution_count": 15,
     "metadata": {},
     "output_type": "execute_result"
    }
   ],
   "source": [
    "clf.score(X_test, y_test)"
   ]
  },
  {
   "cell_type": "code",
   "execution_count": 16,
   "metadata": {
    "collapsed": true
   },
   "outputs": [],
   "source": [
    "from sklearn.metrics import mean_squared_error"
   ]
  },
  {
   "cell_type": "code",
   "execution_count": 17,
   "metadata": {
    "collapsed": false
   },
   "outputs": [
    {
     "name": "stderr",
     "output_type": "stream",
     "text": [
      "[Parallel(n_jobs=3)]: Done  35 tasks      | elapsed:    6.6s\n",
      "[Parallel(n_jobs=3)]: Done 140 out of 140 | elapsed:   26.0s finished\n"
     ]
    },
    {
     "data": {
      "text/plain": [
       "10780137.387441853"
      ]
     },
     "execution_count": 17,
     "metadata": {},
     "output_type": "execute_result"
    }
   ],
   "source": [
    "mean_squared_error(y_test, clf.predict(X_test))"
   ]
  },
  {
   "cell_type": "code",
   "execution_count": 25,
   "metadata": {
    "collapsed": false
   },
   "outputs": [
    {
     "name": "stderr",
     "output_type": "stream",
     "text": [
      "[Parallel(n_jobs=3)]: Done  35 tasks      | elapsed:   39.6s\n",
      "[Parallel(n_jobs=3)]: Done 140 out of 140 | elapsed:  2.6min finished\n"
     ]
    },
    {
     "data": {
      "text/plain": [
       "10884985.142890144"
      ]
     },
     "execution_count": 25,
     "metadata": {},
     "output_type": "execute_result"
    }
   ],
   "source": [
    "mean_squared_error(Y_train, clf.predict(X_train))"
   ]
  },
  {
   "cell_type": "code",
   "execution_count": 18,
   "metadata": {
    "collapsed": true
   },
   "outputs": [],
   "source": [
    "from sklearn.metrics import median_absolute_error"
   ]
  },
  {
   "cell_type": "code",
   "execution_count": 19,
   "metadata": {
    "collapsed": false
   },
   "outputs": [
    {
     "name": "stderr",
     "output_type": "stream",
     "text": [
      "[Parallel(n_jobs=3)]: Done  35 tasks      | elapsed:   37.8s\n",
      "[Parallel(n_jobs=3)]: Done 140 out of 140 | elapsed:  2.5min finished\n"
     ]
    },
    {
     "data": {
      "text/plain": [
       "650.00562959751687"
      ]
     },
     "execution_count": 19,
     "metadata": {},
     "output_type": "execute_result"
    }
   ],
   "source": [
    "median_absolute_error(Y_train, clf.predict(X_train))"
   ]
  },
  {
   "cell_type": "code",
   "execution_count": 20,
   "metadata": {
    "collapsed": false
   },
   "outputs": [
    {
     "name": "stderr",
     "output_type": "stream",
     "text": [
      "[Parallel(n_jobs=3)]: Done  35 tasks      | elapsed:    6.6s\n",
      "[Parallel(n_jobs=3)]: Done 140 out of 140 | elapsed:   26.1s finished\n"
     ]
    },
    {
     "data": {
      "text/plain": [
       "652.79361357634389"
      ]
     },
     "execution_count": 20,
     "metadata": {},
     "output_type": "execute_result"
    }
   ],
   "source": [
    "median_absolute_error(y_test, clf.predict(X_test))"
   ]
  },
  {
   "cell_type": "code",
   "execution_count": 21,
   "metadata": {
    "collapsed": true
   },
   "outputs": [],
   "source": [
    "from sklearn.metrics import mean_absolute_error"
   ]
  },
  {
   "cell_type": "code",
   "execution_count": 22,
   "metadata": {
    "collapsed": false
   },
   "outputs": [
    {
     "name": "stderr",
     "output_type": "stream",
     "text": [
      "[Parallel(n_jobs=3)]: Done  35 tasks      | elapsed:  1.1min\n",
      "[Parallel(n_jobs=3)]: Done 140 out of 140 | elapsed:  4.4min finished\n"
     ]
    },
    {
     "data": {
      "text/plain": [
       "1516.9823400206953"
      ]
     },
     "execution_count": 22,
     "metadata": {},
     "output_type": "execute_result"
    }
   ],
   "source": [
    "mean_absolute_error(Y_train, clf.predict(X_train))"
   ]
  },
  {
   "cell_type": "code",
   "execution_count": 23,
   "metadata": {
    "collapsed": false
   },
   "outputs": [
    {
     "name": "stderr",
     "output_type": "stream",
     "text": [
      "[Parallel(n_jobs=3)]: Done  35 tasks      | elapsed:   11.9s\n",
      "[Parallel(n_jobs=3)]: Done 140 out of 140 | elapsed:   47.1s finished\n"
     ]
    },
    {
     "data": {
      "text/plain": [
       "1519.2573716975239"
      ]
     },
     "execution_count": 23,
     "metadata": {},
     "output_type": "execute_result"
    }
   ],
   "source": [
    "mean_absolute_error(y_test, clf.predict(X_test))"
   ]
  }
 ],
 "metadata": {
  "kernelspec": {
   "display_name": "Python 2",
   "language": "python",
   "name": "python2"
  },
  "language_info": {
   "codemirror_mode": {
    "name": "ipython",
    "version": 2
   },
   "file_extension": ".py",
   "mimetype": "text/x-python",
   "name": "python",
   "nbconvert_exporter": "python",
   "pygments_lexer": "ipython2",
   "version": "2.7.13"
  }
 },
 "nbformat": 4,
 "nbformat_minor": 2
}

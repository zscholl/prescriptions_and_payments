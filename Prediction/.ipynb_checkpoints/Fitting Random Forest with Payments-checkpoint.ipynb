{
 "cells": [
  {
   "cell_type": "code",
   "execution_count": 2,
   "metadata": {
    "collapsed": true
   },
   "outputs": [],
   "source": [
    "import pandas as pd\n",
    "import numpy as np\n",
    "import pickle\n",
    "from scipy.sparse import csr_matrix\n",
    "from sklearn.model_selection import train_test_split\n",
    "from sklearn.ensemble import RandomForestRegressor"
   ]
  },
  {
   "cell_type": "code",
   "execution_count": 3,
   "metadata": {
    "collapsed": true
   },
   "outputs": [],
   "source": [
    "in_file = open(r'total_day_supply.pkl')\n",
    "total_day_supply = pickle.load(in_file)\n",
    "in_file.close()"
   ]
  },
  {
   "cell_type": "code",
   "execution_count": 4,
   "metadata": {
    "collapsed": true
   },
   "outputs": [],
   "source": [
    "def load_sparse_csr(filename):\n",
    "    loader = np.load(filename)\n",
    "    return csr_matrix((loader['data'], \n",
    "                       loader['indices'], \n",
    "                       loader['indptr']), shape=loader['shape'])"
   ]
  },
  {
   "cell_type": "code",
   "execution_count": 5,
   "metadata": {
    "collapsed": false
   },
   "outputs": [],
   "source": [
    "X = load_sparse_csr(r'data_matrix_one-hot.npz')"
   ]
  },
  {
   "cell_type": "code",
   "execution_count": 6,
   "metadata": {
    "collapsed": false
   },
   "outputs": [],
   "source": [
    "X_test, X_train, supply_test, supply_train = train_test_split(X,\n",
    "                                                              total_day_supply,\n",
    "                                                              test_size=0.15)"
   ]
  },
  {
   "cell_type": "code",
   "execution_count": null,
   "metadata": {
    "collapsed": false
   },
   "outputs": [],
   "source": []
  },
  {
   "cell_type": "code",
   "execution_count": 7,
   "metadata": {
    "collapsed": true
   },
   "outputs": [],
   "source": [
    "clf = RandomForestRegressor(n_jobs=63, n_estimators=140, verbose=2)"
   ]
  },
  {
   "cell_type": "code",
   "execution_count": 8,
   "metadata": {
    "collapsed": false,
    "scrolled": true
   },
   "outputs": [
    {
     "name": "stdout",
     "output_type": "stream",
     "text": [
      "building tree 1 of 140building tree 2 of 140building tree 3 of 140building tree 4 of 140building tree 5 of 140building tree 6 of 140building tree 8 of 140building tree 9 of 140building tree 10 of 140 building tree 11 of 140building tree 12 of 140\n",
      "\n",
      "\n",
      "\n",
      "\n",
      "\n",
      "\n",
      "\n",
      "\n",
      "building tree 7 of 140\n",
      "\n",
      "building tree 14 of 140building tree 13 of 140building tree 15 of 140building tree 16 of 140building tree 17 of 140building tree 18 of 140 building tree 20 of 140building tree 21 of 140building tree 23 of 140 building tree 24 of 140building tree 25 of 140building tree 26 of 140building tree 27 of 140building tree 28 of 140building tree 29 of 140 building tree 31 of 140building tree 32 of 140building tree 33 of 140 building tree 35 of 140building tree 36 of 140building tree 37 of 140 building tree 40 of 140   building tree 43 of 140 building tree 45 of 140building tree 46 of 140 building tree 48 of 140building tree 49 of 140 building tree 52 of 140building tree 51 of 140\n",
      "\n",
      "building tree 50 of 140\n",
      "\n",
      "building tree 56 of 140 building tree 53 of 140building tree 47 of 140\n",
      "\n",
      "\n",
      "\n",
      "\n",
      "\n",
      "\n",
      "\n",
      "\n",
      "building tree 19 of 140\n",
      "\n",
      "\n",
      "building tree 22 of 140\n",
      "\n",
      "\n",
      "\n",
      "\n",
      "\n",
      "building tree 30 of 140\n",
      "\n",
      "\n",
      "building tree 34 of 140\n",
      "\n",
      "\n",
      "building tree 38 of 140\n",
      "building tree 39 of 140building tree 41 of 140building tree 42 of 140building tree 60 of 140building tree 44 of 140building tree 55 of 140building tree 57 of 140building tree 58 of 140 building tree 61 of 140building tree 63 of 140 building tree 62 of 140\n",
      "\n",
      "\n",
      "\n",
      "building tree 54 of 140\n",
      "\n",
      "building tree 59 of 140\n",
      "\n",
      "\n",
      "\n",
      "\n",
      "\n",
      "\n",
      "\n",
      "\n",
      "\n",
      "\n",
      "\n",
      "\n",
      "\n",
      "\n",
      "\n",
      "\n",
      "building tree 64 of 140\n",
      "building tree 65 of 140\n",
      "building tree 66 of 140\n",
      "building tree 67 of 140\n",
      "building tree 68 of 140\n",
      "building tree 69 of 140\n",
      "building tree 70 of 140\n",
      "building tree 71 of 140\n",
      "building tree 72 of 140\n",
      "building tree 73 of 140\n",
      "building tree 74 of 140\n",
      "building tree 75 of 140\n",
      "building tree 76 of 140\n",
      "building tree 77 of 140\n",
      "building tree 78 of 140\n",
      "building tree 79 of 140\n",
      "building tree 80 of 140\n",
      "building tree 81 of 140\n",
      "building tree 82 of 140\n",
      "building tree 83 of 140\n",
      "building tree 84 of 140\n",
      "building tree 85 of 140\n",
      "building tree 86 of 140\n",
      "building tree 87 of 140\n",
      "building tree 88 of 140\n",
      "building tree 89 of 140\n",
      "building tree 90 of 140\n",
      "building tree 91 of 140\n",
      "building tree 92 of 140\n",
      "building tree 93 of 140\n",
      "building tree 94 of 140\n",
      "building tree 95 of 140\n",
      "building tree 96 of 140\n",
      "building tree 97 of 140\n",
      "building tree 98 of 140\n",
      "building tree 99 of 140\n",
      "building tree 100 of 140\n",
      "building tree 101 of 140\n",
      "building tree 102 of 140\n",
      "building tree 103 of 140\n",
      "building tree 104 of 140\n",
      "building tree 105 of 140\n",
      "building tree 106 of 140\n",
      "building tree 107 of 140\n",
      "building tree 108 of 140\n",
      "building tree 109 of 140\n",
      "building tree 110 of 140\n",
      "building tree 111 of 140\n",
      "building tree 112 of 140\n",
      "building tree 113 of 140\n",
      "building tree 114 of 140\n",
      "building tree 115 of 140\n",
      "building tree 116 of 140\n",
      "building tree 117 of 140\n",
      "building tree 118 of 140\n",
      "building tree 119 of 140\n",
      "building tree 120 of 140\n",
      "building tree 121 of 140\n",
      "building tree 122 of 140\n",
      "building tree 123 of 140\n",
      "building tree 124 of 140\n",
      "building tree 125 of 140\n",
      "building tree 126 of 140\n",
      "building tree 127 of 140\n",
      "building tree 128 of 140\n",
      "building tree 129 of 140\n",
      "building tree 130 of 140\n",
      "building tree 131 of 140\n",
      "building tree 132 of 140\n",
      "building tree 133 of 140\n",
      "building tree 134 of 140\n",
      "building tree 135 of 140\n",
      "building tree 136 of 140\n",
      "building tree 137 of 140\n",
      "building tree 138 of 140\n",
      "building tree 139 of 140\n",
      "building tree 140 of 140\n"
     ]
    },
    {
     "name": "stderr",
     "output_type": "stream",
     "text": [
      "[Parallel(n_jobs=63)]: Done  86 out of 140 | elapsed: 330.8min remaining: 207.7min\n",
      "[Parallel(n_jobs=63)]: Done 140 out of 140 | elapsed: 432.4min finished\n"
     ]
    },
    {
     "data": {
      "text/plain": [
       "RandomForestRegressor(bootstrap=True, criterion='mse', max_depth=None,\n",
       "           max_features='auto', max_leaf_nodes=None,\n",
       "           min_impurity_split=1e-07, min_samples_leaf=1,\n",
       "           min_samples_split=2, min_weight_fraction_leaf=0.0,\n",
       "           n_estimators=140, n_jobs=63, oob_score=False, random_state=None,\n",
       "           verbose=2, warm_start=False)"
      ]
     },
     "execution_count": 8,
     "metadata": {},
     "output_type": "execute_result"
    }
   ],
   "source": [
    "clf.fit(X_train, supply_train)"
   ]
  },
  {
   "cell_type": "code",
   "execution_count": 9,
   "metadata": {
    "collapsed": false
   },
   "outputs": [
    {
     "name": "stderr",
     "output_type": "stream",
     "text": [
      "[Parallel(n_jobs=63)]: Done  86 out of 140 | elapsed:    6.7s remaining:    4.2s\n",
      "[Parallel(n_jobs=63)]: Done 140 out of 140 | elapsed:    8.7s finished\n"
     ]
    },
    {
     "data": {
      "text/plain": [
       "0.90757789577833525"
      ]
     },
     "execution_count": 9,
     "metadata": {},
     "output_type": "execute_result"
    }
   ],
   "source": [
    "clf.score(X_train, supply_train)"
   ]
  },
  {
   "cell_type": "code",
   "execution_count": 10,
   "metadata": {
    "collapsed": false
   },
   "outputs": [
    {
     "name": "stderr",
     "output_type": "stream",
     "text": [
      "[Parallel(n_jobs=63)]: Done  86 out of 140 | elapsed:   39.4s remaining:   24.8s\n",
      "[Parallel(n_jobs=63)]: Done 140 out of 140 | elapsed:   50.5s finished\n"
     ]
    },
    {
     "data": {
      "text/plain": [
       "0.35726939398884572"
      ]
     },
     "execution_count": 10,
     "metadata": {},
     "output_type": "execute_result"
    }
   ],
   "source": [
    "clf.score(X_test, supply_test)"
   ]
  },
  {
   "cell_type": "code",
   "execution_count": 11,
   "metadata": {
    "collapsed": true
   },
   "outputs": [],
   "source": [
    "from sklearn.metrics import mean_squared_error"
   ]
  },
  {
   "cell_type": "code",
   "execution_count": 12,
   "metadata": {
    "collapsed": false
   },
   "outputs": [
    {
     "name": "stderr",
     "output_type": "stream",
     "text": [
      "[Parallel(n_jobs=63)]: Done  86 out of 140 | elapsed:    7.0s remaining:    4.4s\n",
      "[Parallel(n_jobs=63)]: Done 140 out of 140 | elapsed:    9.0s finished\n"
     ]
    },
    {
     "data": {
      "text/plain": [
       "1567647.3113527221"
      ]
     },
     "execution_count": 12,
     "metadata": {},
     "output_type": "execute_result"
    }
   ],
   "source": [
    "mean_squared_error(supply_train, clf.predict(X_train))"
   ]
  },
  {
   "cell_type": "code",
   "execution_count": 13,
   "metadata": {
    "collapsed": false
   },
   "outputs": [
    {
     "name": "stderr",
     "output_type": "stream",
     "text": [
      "[Parallel(n_jobs=63)]: Done  86 out of 140 | elapsed:   39.8s remaining:   25.0s\n",
      "[Parallel(n_jobs=63)]: Done 140 out of 140 | elapsed:   49.9s finished\n"
     ]
    },
    {
     "data": {
      "text/plain": [
       "10900560.620678179"
      ]
     },
     "execution_count": 13,
     "metadata": {},
     "output_type": "execute_result"
    }
   ],
   "source": [
    "mean_squared_error(supply_test, clf.predict(X_test))"
   ]
  },
  {
   "cell_type": "code",
   "execution_count": 14,
   "metadata": {
    "collapsed": true
   },
   "outputs": [],
   "source": [
    "from sklearn.metrics import median_absolute_error"
   ]
  },
  {
   "cell_type": "code",
   "execution_count": 15,
   "metadata": {
    "collapsed": false
   },
   "outputs": [
    {
     "name": "stderr",
     "output_type": "stream",
     "text": [
      "[Parallel(n_jobs=63)]: Done  86 out of 140 | elapsed:    6.9s remaining:    4.3s\n",
      "[Parallel(n_jobs=63)]: Done 140 out of 140 | elapsed:    9.0s finished\n"
     ]
    },
    {
     "data": {
      "text/plain": [
       "222.12142857142862"
      ]
     },
     "execution_count": 15,
     "metadata": {},
     "output_type": "execute_result"
    }
   ],
   "source": [
    "median_absolute_error(supply_train, clf.predict(X_train))"
   ]
  },
  {
   "cell_type": "code",
   "execution_count": 16,
   "metadata": {
    "collapsed": false
   },
   "outputs": [
    {
     "name": "stderr",
     "output_type": "stream",
     "text": [
      "[Parallel(n_jobs=63)]: Done  86 out of 140 | elapsed:   39.9s remaining:   25.1s\n",
      "[Parallel(n_jobs=63)]: Done 140 out of 140 | elapsed:   50.8s finished\n"
     ]
    },
    {
     "data": {
      "text/plain": [
       "604.06607993197281"
      ]
     },
     "execution_count": 16,
     "metadata": {},
     "output_type": "execute_result"
    }
   ],
   "source": [
    "median_absolute_error(supply_test, clf.predict(X_test))"
   ]
  },
  {
   "cell_type": "code",
   "execution_count": 17,
   "metadata": {
    "collapsed": true
   },
   "outputs": [],
   "source": [
    "from sklearn.metrics import mean_absolute_error"
   ]
  },
  {
   "cell_type": "code",
   "execution_count": 18,
   "metadata": {
    "collapsed": false
   },
   "outputs": [
    {
     "name": "stderr",
     "output_type": "stream",
     "text": [
      "[Parallel(n_jobs=63)]: Done  86 out of 140 | elapsed:    7.1s remaining:    4.4s\n",
      "[Parallel(n_jobs=63)]: Done 140 out of 140 | elapsed:    9.0s finished\n"
     ]
    },
    {
     "data": {
      "text/plain": [
       "566.7816725134677"
      ]
     },
     "execution_count": 18,
     "metadata": {},
     "output_type": "execute_result"
    }
   ],
   "source": [
    "mean_absolute_error(supply_train, clf.predict(X_train))"
   ]
  },
  {
   "cell_type": "code",
   "execution_count": 19,
   "metadata": {
    "collapsed": false
   },
   "outputs": [
    {
     "name": "stderr",
     "output_type": "stream",
     "text": [
      "[Parallel(n_jobs=63)]: Done  86 out of 140 | elapsed:   39.2s remaining:   24.6s\n",
      "[Parallel(n_jobs=63)]: Done 140 out of 140 | elapsed:   50.2s finished\n"
     ]
    },
    {
     "data": {
      "text/plain": [
       "1516.5581085723088"
      ]
     },
     "execution_count": 19,
     "metadata": {},
     "output_type": "execute_result"
    }
   ],
   "source": [
    "mean_absolute_error(supply_test, clf.predict(X_test))"
   ]
  },
  {
   "cell_type": "code",
   "execution_count": null,
   "metadata": {
    "collapsed": true
   },
   "outputs": [],
   "source": []
  },
  {
   "cell_type": "markdown",
   "metadata": {},
   "source": [
    "# Create a frame for the predicted values and their differences"
   ]
  },
  {
   "cell_type": "code",
   "execution_count": 89,
   "metadata": {
    "collapsed": false
   },
   "outputs": [],
   "source": [
    "supply_train = supply_train.to_frame()"
   ]
  },
  {
   "cell_type": "code",
   "execution_count": 90,
   "metadata": {
    "collapsed": false
   },
   "outputs": [
    {
     "name": "stderr",
     "output_type": "stream",
     "text": [
      "[Parallel(n_jobs=63)]: Done  86 out of 140 | elapsed:    7.0s remaining:    4.4s\n",
      "[Parallel(n_jobs=63)]: Done 140 out of 140 | elapsed:    9.0s finished\n"
     ]
    }
   ],
   "source": [
    "supply_train['predicted'] = clf.predict(X_train)"
   ]
  },
  {
   "cell_type": "code",
   "execution_count": 91,
   "metadata": {
    "collapsed": true
   },
   "outputs": [],
   "source": [
    "supply_train.to_pickle('supply_train_frame.pkl')"
   ]
  },
  {
   "cell_type": "code",
   "execution_count": 37,
   "metadata": {
    "collapsed": false
   },
   "outputs": [],
   "source": [
    "supply_test = supply_test.to_frame()"
   ]
  },
  {
   "cell_type": "code",
   "execution_count": 39,
   "metadata": {
    "collapsed": false
   },
   "outputs": [
    {
     "name": "stderr",
     "output_type": "stream",
     "text": [
      "[Parallel(n_jobs=63)]: Done  86 out of 140 | elapsed:   38.6s remaining:   24.2s\n",
      "[Parallel(n_jobs=63)]: Done 140 out of 140 | elapsed:   49.6s finished\n"
     ]
    }
   ],
   "source": [
    "supply_test['predicted'] = clf.predict(X_test)"
   ]
  },
  {
   "cell_type": "code",
   "execution_count": 40,
   "metadata": {
    "collapsed": false
   },
   "outputs": [
    {
     "data": {
      "text/html": [
       "<div>\n",
       "<table border=\"1\" class=\"dataframe\">\n",
       "  <thead>\n",
       "    <tr style=\"text-align: right;\">\n",
       "      <th></th>\n",
       "      <th>TOTAL_DAY_SUPPLY</th>\n",
       "      <th>predicted</th>\n",
       "    </tr>\n",
       "  </thead>\n",
       "  <tbody>\n",
       "    <tr>\n",
       "      <th>1152150</th>\n",
       "      <td>420</td>\n",
       "      <td>417.957143</td>\n",
       "    </tr>\n",
       "    <tr>\n",
       "      <th>7781877</th>\n",
       "      <td>1620</td>\n",
       "      <td>2298.792857</td>\n",
       "    </tr>\n",
       "    <tr>\n",
       "      <th>6398326</th>\n",
       "      <td>1020</td>\n",
       "      <td>672.750000</td>\n",
       "    </tr>\n",
       "    <tr>\n",
       "      <th>1622989</th>\n",
       "      <td>600</td>\n",
       "      <td>2084.850000</td>\n",
       "    </tr>\n",
       "    <tr>\n",
       "      <th>4389735</th>\n",
       "      <td>211</td>\n",
       "      <td>2379.685714</td>\n",
       "    </tr>\n",
       "  </tbody>\n",
       "</table>\n",
       "</div>"
      ],
      "text/plain": [
       "         TOTAL_DAY_SUPPLY    predicted\n",
       "1152150               420   417.957143\n",
       "7781877              1620  2298.792857\n",
       "6398326              1020   672.750000\n",
       "1622989               600  2084.850000\n",
       "4389735               211  2379.685714"
      ]
     },
     "execution_count": 40,
     "metadata": {},
     "output_type": "execute_result"
    }
   ],
   "source": [
    "supply_test.head()"
   ]
  },
  {
   "cell_type": "code",
   "execution_count": 43,
   "metadata": {
    "collapsed": true
   },
   "outputs": [],
   "source": [
    "supply_test['difference'] = supply_test.TOTAL_DAY_SUPPLY - supply_test.predicted"
   ]
  },
  {
   "cell_type": "code",
   "execution_count": 46,
   "metadata": {
    "collapsed": false
   },
   "outputs": [],
   "source": [
    "supply_test['difference'] = supply_test.difference.apply(lambda x: np.abs(x))"
   ]
  },
  {
   "cell_type": "code",
   "execution_count": null,
   "metadata": {
    "collapsed": false
   },
   "outputs": [],
   "source": []
  },
  {
   "cell_type": "markdown",
   "metadata": {},
   "source": [
    "# Recreate source dataframe"
   ]
  },
  {
   "cell_type": "code",
   "execution_count": 53,
   "metadata": {
    "collapsed": true
   },
   "outputs": [],
   "source": [
    "payments_types = {'Applicable_Manufacturer_or_Applicable_GPO_Making_Payment_ID': 'str',\n",
    " 'Charity_Indicator': 'str',\n",
    " 'City_of_Travel': 'str',\n",
    " 'Contextual_Information': 'str',\n",
    " 'Country_of_Travel': 'str',\n",
    " 'NDC_of_Associated_Covered_Drug_or_Biological1': 'str',\n",
    " 'NDC_of_Associated_Covered_Drug_or_Biological2': 'str',\n",
    " 'NDC_of_Associated_Covered_Drug_or_Biological3': 'str',\n",
    " 'NDC_of_Associated_Covered_Drug_or_Biological4': 'str',\n",
    " 'NDC_of_Associated_Covered_Drug_or_Biological5': 'str',\n",
    " 'Name_of_Associated_Covered_Device_or_Medical_Supply1': 'str',\n",
    " 'Name_of_Associated_Covered_Device_or_Medical_Supply2': 'str',\n",
    " 'Name_of_Associated_Covered_Device_or_Medical_Supply3': 'str',\n",
    " 'Name_of_Associated_Covered_Device_or_Medical_Supply4': 'str',\n",
    " 'Name_of_Associated_Covered_Device_or_Medical_Supply5': 'str',\n",
    " 'Name_of_Associated_Covered_Drug_or_Biological1': 'str',\n",
    " 'Name_of_Associated_Covered_Drug_or_Biological2': 'str',\n",
    " 'Name_of_Associated_Covered_Drug_or_Biological3': 'str',\n",
    " 'Name_of_Associated_Covered_Drug_or_Biological4': 'str',\n",
    " 'Name_of_Associated_Covered_Drug_or_Biological5': 'str',\n",
    " 'Name_of_Third_Party_Entity_Receiving_Payment_or_Transfer_of_Value': 'str',\n",
    " 'Physician_License_State_code2': 'str',\n",
    " 'Physician_License_State_code3': 'str',\n",
    " 'Physician_License_State_code4': 'str',\n",
    " 'Physician_License_State_code5': 'str',\n",
    " 'Physician_First_Name': 'str',\n",
    " 'Physician_Last_Name': 'str',\n",
    " 'Physician_Middle_Name': 'str',\n",
    " 'Physician_Name_Suffix': 'str',\n",
    " 'Physician_Profile_ID': 'str',\n",
    " 'Recipient_Postal_Code': 'str',\n",
    " 'Recipient_Primary_Business_Street_Address_Line2': 'str',\n",
    " 'Recipient_Province': 'str',\n",
    " 'Recipient_Zip_Code': 'str',\n",
    " 'Record_ID': 'str',\n",
    " 'State_of_Travel': 'str',\n",
    " 'Teaching_Hospital_ID': 'str',\n",
    " 'Teaching_Hospital_Name': 'str',\n",
    " 'Third_Party_Equals_Covered_Recipient_Indicator': 'str'}"
   ]
  },
  {
   "cell_type": "code",
   "execution_count": 55,
   "metadata": {
    "collapsed": false
   },
   "outputs": [],
   "source": [
    "# load in datasets\n",
    "payments = pd.read_csv(r'data/OP_DTL_GNRL_PGYR2014_P06302016.csv', dtype=payments_types)\n",
    "\n",
    "in_file = open(r'data/prescriptions.pkl', 'rb')\n",
    "prescriptions = pickle.load(in_file)\n",
    "in_file.close()\n",
    "\n",
    "file_in = open(r'data/physician_id_to_npi.pkl', 'rb')\n",
    "physician_id_to_npi = pickle.load(file_in)\n",
    "file_in.close()"
   ]
  },
  {
   "cell_type": "code",
   "execution_count": 56,
   "metadata": {
    "collapsed": false
   },
   "outputs": [],
   "source": [
    "payments_grouped = payments.groupby(['Physician_Profile_ID', \n",
    "                                 'Applicable_Manufacturer_or_Applicable_GPO_Making_Payment_Name']).agg({'Total_Amount_of_Payment_USDollars': 'sum'})\n",
    "payments_grouped = payments_grouped.unstack(\n",
    "    'Applicable_Manufacturer_or_Applicable_GPO_Making_Payment_Name').reset_index().fillna(0)\n",
    "\n",
    "payments_grouped.columns = payments_grouped.columns.droplevel()\n",
    "# create a named column for the Physician_Profile_ID\n",
    "payments_grouped['Physician_Profile_ID'] = payments_grouped[[0]].values\n",
    "# drop the unnamed column\n",
    "#payments_grouped.drop(payments_grouped.columns[0], axis=1, inplace=True)\n",
    "\n",
    "# Insert the NPI into payments\n",
    "payments_grouped = payments_grouped.merge(physician_id_to_npi, on='Physician_Profile_ID', copy=False)\n",
    "\n",
    "prescriptions = prescriptions[['NPI', 'SPECIALTY_DESCRIPTION', 'DRUG_NAME', 'TOTAL_DAY_SUPPLY']]\n",
    "# merge the payments records with prescription data\n",
    "prescriptions = prescriptions.merge(payments_grouped, on='NPI', copy=False)\n"
   ]
  },
  {
   "cell_type": "code",
   "execution_count": 58,
   "metadata": {
    "collapsed": false
   },
   "outputs": [
    {
     "data": {
      "text/html": [
       "<div>\n",
       "<table border=\"1\" class=\"dataframe\">\n",
       "  <thead>\n",
       "    <tr style=\"text-align: right;\">\n",
       "      <th></th>\n",
       "      <th>NPI</th>\n",
       "      <th>SPECIALTY_DESCRIPTION</th>\n",
       "      <th>DRUG_NAME</th>\n",
       "      <th>TOTAL_DAY_SUPPLY</th>\n",
       "      <th></th>\n",
       "      <th>180 Medical, Inc.</th>\n",
       "      <th>3D Systems</th>\n",
       "      <th>3M Company</th>\n",
       "      <th>4WEB, Inc.</th>\n",
       "      <th>A-dec, Inc.</th>\n",
       "      <th>...</th>\n",
       "      <th>eCardio Diagnostics, LLC</th>\n",
       "      <th>iCAD, Inc</th>\n",
       "      <th>iRhythm Technologies, Inc.</th>\n",
       "      <th>iScreen Vision Inc.</th>\n",
       "      <th>integrated dental systems</th>\n",
       "      <th>nContact Surgical, Inc</th>\n",
       "      <th>optos plc</th>\n",
       "      <th>rEVO Biologics, Inc.</th>\n",
       "      <th>sanofi-aventis U.S. LLC</th>\n",
       "      <th>Physician_Profile_ID</th>\n",
       "    </tr>\n",
       "  </thead>\n",
       "  <tbody>\n",
       "    <tr>\n",
       "      <th>0</th>\n",
       "      <td>1588763981</td>\n",
       "      <td>Urology</td>\n",
       "      <td>ANDROGEL</td>\n",
       "      <td>720</td>\n",
       "      <td>1063317</td>\n",
       "      <td>0.0</td>\n",
       "      <td>0.0</td>\n",
       "      <td>0.0</td>\n",
       "      <td>0.0</td>\n",
       "      <td>0.0</td>\n",
       "      <td>...</td>\n",
       "      <td>0.0</td>\n",
       "      <td>0.0</td>\n",
       "      <td>0.0</td>\n",
       "      <td>0.0</td>\n",
       "      <td>0.0</td>\n",
       "      <td>0.0</td>\n",
       "      <td>0.0</td>\n",
       "      <td>0.0</td>\n",
       "      <td>0.0</td>\n",
       "      <td>1063317</td>\n",
       "    </tr>\n",
       "    <tr>\n",
       "      <th>1</th>\n",
       "      <td>1588763981</td>\n",
       "      <td>Urology</td>\n",
       "      <td>BICALUTAMIDE</td>\n",
       "      <td>6000</td>\n",
       "      <td>1063317</td>\n",
       "      <td>0.0</td>\n",
       "      <td>0.0</td>\n",
       "      <td>0.0</td>\n",
       "      <td>0.0</td>\n",
       "      <td>0.0</td>\n",
       "      <td>...</td>\n",
       "      <td>0.0</td>\n",
       "      <td>0.0</td>\n",
       "      <td>0.0</td>\n",
       "      <td>0.0</td>\n",
       "      <td>0.0</td>\n",
       "      <td>0.0</td>\n",
       "      <td>0.0</td>\n",
       "      <td>0.0</td>\n",
       "      <td>0.0</td>\n",
       "      <td>1063317</td>\n",
       "    </tr>\n",
       "    <tr>\n",
       "      <th>2</th>\n",
       "      <td>1588763981</td>\n",
       "      <td>Urology</td>\n",
       "      <td>CEPHALEXIN</td>\n",
       "      <td>160</td>\n",
       "      <td>1063317</td>\n",
       "      <td>0.0</td>\n",
       "      <td>0.0</td>\n",
       "      <td>0.0</td>\n",
       "      <td>0.0</td>\n",
       "      <td>0.0</td>\n",
       "      <td>...</td>\n",
       "      <td>0.0</td>\n",
       "      <td>0.0</td>\n",
       "      <td>0.0</td>\n",
       "      <td>0.0</td>\n",
       "      <td>0.0</td>\n",
       "      <td>0.0</td>\n",
       "      <td>0.0</td>\n",
       "      <td>0.0</td>\n",
       "      <td>0.0</td>\n",
       "      <td>1063317</td>\n",
       "    </tr>\n",
       "    <tr>\n",
       "      <th>3</th>\n",
       "      <td>1588763981</td>\n",
       "      <td>Urology</td>\n",
       "      <td>CIPROFLOXACIN HCL</td>\n",
       "      <td>415</td>\n",
       "      <td>1063317</td>\n",
       "      <td>0.0</td>\n",
       "      <td>0.0</td>\n",
       "      <td>0.0</td>\n",
       "      <td>0.0</td>\n",
       "      <td>0.0</td>\n",
       "      <td>...</td>\n",
       "      <td>0.0</td>\n",
       "      <td>0.0</td>\n",
       "      <td>0.0</td>\n",
       "      <td>0.0</td>\n",
       "      <td>0.0</td>\n",
       "      <td>0.0</td>\n",
       "      <td>0.0</td>\n",
       "      <td>0.0</td>\n",
       "      <td>0.0</td>\n",
       "      <td>1063317</td>\n",
       "    </tr>\n",
       "    <tr>\n",
       "      <th>4</th>\n",
       "      <td>1588763981</td>\n",
       "      <td>Urology</td>\n",
       "      <td>FINASTERIDE</td>\n",
       "      <td>28140</td>\n",
       "      <td>1063317</td>\n",
       "      <td>0.0</td>\n",
       "      <td>0.0</td>\n",
       "      <td>0.0</td>\n",
       "      <td>0.0</td>\n",
       "      <td>0.0</td>\n",
       "      <td>...</td>\n",
       "      <td>0.0</td>\n",
       "      <td>0.0</td>\n",
       "      <td>0.0</td>\n",
       "      <td>0.0</td>\n",
       "      <td>0.0</td>\n",
       "      <td>0.0</td>\n",
       "      <td>0.0</td>\n",
       "      <td>0.0</td>\n",
       "      <td>0.0</td>\n",
       "      <td>1063317</td>\n",
       "    </tr>\n",
       "  </tbody>\n",
       "</table>\n",
       "<p>5 rows × 1495 columns</p>\n",
       "</div>"
      ],
      "text/plain": [
       "          NPI SPECIALTY_DESCRIPTION          DRUG_NAME  TOTAL_DAY_SUPPLY  \\\n",
       "0  1588763981               Urology           ANDROGEL               720   \n",
       "1  1588763981               Urology       BICALUTAMIDE              6000   \n",
       "2  1588763981               Urology         CEPHALEXIN               160   \n",
       "3  1588763981               Urology  CIPROFLOXACIN HCL               415   \n",
       "4  1588763981               Urology        FINASTERIDE             28140   \n",
       "\n",
       "            180 Medical, Inc.  3D Systems  3M Company  4WEB, Inc.  \\\n",
       "0  1063317                0.0         0.0         0.0         0.0   \n",
       "1  1063317                0.0         0.0         0.0         0.0   \n",
       "2  1063317                0.0         0.0         0.0         0.0   \n",
       "3  1063317                0.0         0.0         0.0         0.0   \n",
       "4  1063317                0.0         0.0         0.0         0.0   \n",
       "\n",
       "   A-dec, Inc.          ...           eCardio Diagnostics, LLC  iCAD, Inc  \\\n",
       "0          0.0          ...                                0.0        0.0   \n",
       "1          0.0          ...                                0.0        0.0   \n",
       "2          0.0          ...                                0.0        0.0   \n",
       "3          0.0          ...                                0.0        0.0   \n",
       "4          0.0          ...                                0.0        0.0   \n",
       "\n",
       "   iRhythm Technologies, Inc.  iScreen Vision Inc.  integrated dental systems  \\\n",
       "0                         0.0                  0.0                        0.0   \n",
       "1                         0.0                  0.0                        0.0   \n",
       "2                         0.0                  0.0                        0.0   \n",
       "3                         0.0                  0.0                        0.0   \n",
       "4                         0.0                  0.0                        0.0   \n",
       "\n",
       "   nContact Surgical, Inc  optos plc  rEVO Biologics, Inc.  \\\n",
       "0                     0.0        0.0                   0.0   \n",
       "1                     0.0        0.0                   0.0   \n",
       "2                     0.0        0.0                   0.0   \n",
       "3                     0.0        0.0                   0.0   \n",
       "4                     0.0        0.0                   0.0   \n",
       "\n",
       "   sanofi-aventis U.S. LLC  Physician_Profile_ID  \n",
       "0                      0.0               1063317  \n",
       "1                      0.0               1063317  \n",
       "2                      0.0               1063317  \n",
       "3                      0.0               1063317  \n",
       "4                      0.0               1063317  \n",
       "\n",
       "[5 rows x 1495 columns]"
      ]
     },
     "execution_count": 58,
     "metadata": {},
     "output_type": "execute_result"
    }
   ],
   "source": [
    "prescriptions.head()"
   ]
  },
  {
   "cell_type": "code",
   "execution_count": 94,
   "metadata": {
    "collapsed": false
   },
   "outputs": [
    {
     "data": {
      "text/plain": [
       "97"
      ]
     },
     "execution_count": 94,
     "metadata": {},
     "output_type": "execute_result"
    }
   ],
   "source": [
    "prescriptions.memory_usage().sum() / (1024**3)"
   ]
  },
  {
   "cell_type": "code",
   "execution_count": null,
   "metadata": {
    "collapsed": true
   },
   "outputs": [],
   "source": []
  },
  {
   "cell_type": "markdown",
   "metadata": {},
   "source": [
    "# Good predictions"
   ]
  },
  {
   "cell_type": "code",
   "execution_count": 64,
   "metadata": {
    "collapsed": false
   },
   "outputs": [],
   "source": [
    "top_20 = supply_test.sort_values('difference').head(20)"
   ]
  },
  {
   "cell_type": "code",
   "execution_count": 66,
   "metadata": {
    "collapsed": false
   },
   "outputs": [
    {
     "data": {
      "text/html": [
       "<div>\n",
       "<table border=\"1\" class=\"dataframe\">\n",
       "  <thead>\n",
       "    <tr style=\"text-align: right;\">\n",
       "      <th></th>\n",
       "      <th>TOTAL_DAY_SUPPLY</th>\n",
       "      <th>predicted</th>\n",
       "      <th>difference</th>\n",
       "    </tr>\n",
       "  </thead>\n",
       "  <tbody>\n",
       "    <tr>\n",
       "      <th>107189</th>\n",
       "      <td>1200</td>\n",
       "      <td>1200.0</td>\n",
       "      <td>0.0</td>\n",
       "    </tr>\n",
       "    <tr>\n",
       "      <th>4536637</th>\n",
       "      <td>367</td>\n",
       "      <td>367.0</td>\n",
       "      <td>0.0</td>\n",
       "    </tr>\n",
       "    <tr>\n",
       "      <th>6910698</th>\n",
       "      <td>1676</td>\n",
       "      <td>1676.0</td>\n",
       "      <td>0.0</td>\n",
       "    </tr>\n",
       "    <tr>\n",
       "      <th>3020304</th>\n",
       "      <td>2107</td>\n",
       "      <td>2107.0</td>\n",
       "      <td>0.0</td>\n",
       "    </tr>\n",
       "    <tr>\n",
       "      <th>1952266</th>\n",
       "      <td>1074</td>\n",
       "      <td>1074.0</td>\n",
       "      <td>0.0</td>\n",
       "    </tr>\n",
       "  </tbody>\n",
       "</table>\n",
       "</div>"
      ],
      "text/plain": [
       "         TOTAL_DAY_SUPPLY  predicted  difference\n",
       "107189               1200     1200.0         0.0\n",
       "4536637               367      367.0         0.0\n",
       "6910698              1676     1676.0         0.0\n",
       "3020304              2107     2107.0         0.0\n",
       "1952266              1074     1074.0         0.0"
      ]
     },
     "execution_count": 66,
     "metadata": {},
     "output_type": "execute_result"
    }
   ],
   "source": [
    "top_20.head()"
   ]
  },
  {
   "cell_type": "markdown",
   "metadata": {},
   "source": [
    "# Bad predictions"
   ]
  },
  {
   "cell_type": "code",
   "execution_count": 65,
   "metadata": {
    "collapsed": false
   },
   "outputs": [],
   "source": [
    "bot_20 = supply_test.sort_values('difference', ascending=False).head(20)"
   ]
  },
  {
   "cell_type": "code",
   "execution_count": 67,
   "metadata": {
    "collapsed": false
   },
   "outputs": [
    {
     "data": {
      "text/html": [
       "<div>\n",
       "<table border=\"1\" class=\"dataframe\">\n",
       "  <thead>\n",
       "    <tr style=\"text-align: right;\">\n",
       "      <th></th>\n",
       "      <th>TOTAL_DAY_SUPPLY</th>\n",
       "      <th>predicted</th>\n",
       "      <th>difference</th>\n",
       "    </tr>\n",
       "  </thead>\n",
       "  <tbody>\n",
       "    <tr>\n",
       "      <th>6344543</th>\n",
       "      <td>212622</td>\n",
       "      <td>12999.871429</td>\n",
       "      <td>199622.128571</td>\n",
       "    </tr>\n",
       "    <tr>\n",
       "      <th>75266</th>\n",
       "      <td>209235</td>\n",
       "      <td>18513.467857</td>\n",
       "      <td>190721.532143</td>\n",
       "    </tr>\n",
       "    <tr>\n",
       "      <th>7138920</th>\n",
       "      <td>193753</td>\n",
       "      <td>10632.678571</td>\n",
       "      <td>183120.321429</td>\n",
       "    </tr>\n",
       "    <tr>\n",
       "      <th>5390448</th>\n",
       "      <td>188354</td>\n",
       "      <td>8225.464286</td>\n",
       "      <td>180128.535714</td>\n",
       "    </tr>\n",
       "    <tr>\n",
       "      <th>7691294</th>\n",
       "      <td>179537</td>\n",
       "      <td>981.835714</td>\n",
       "      <td>178555.164286</td>\n",
       "    </tr>\n",
       "  </tbody>\n",
       "</table>\n",
       "</div>"
      ],
      "text/plain": [
       "         TOTAL_DAY_SUPPLY     predicted     difference\n",
       "6344543            212622  12999.871429  199622.128571\n",
       "75266              209235  18513.467857  190721.532143\n",
       "7138920            193753  10632.678571  183120.321429\n",
       "5390448            188354   8225.464286  180128.535714\n",
       "7691294            179537    981.835714  178555.164286"
      ]
     },
     "execution_count": 67,
     "metadata": {},
     "output_type": "execute_result"
    }
   ],
   "source": [
    "bot_20.head()"
   ]
  },
  {
   "cell_type": "code",
   "execution_count": null,
   "metadata": {
    "collapsed": true
   },
   "outputs": [],
   "source": []
  },
  {
   "cell_type": "markdown",
   "metadata": {},
   "source": [
    "So some of these prescription rates it predicted spot on! And some of them were way off. Looks like the most accurate were generally lower values and those that were less accurate were generally higher values, this makes sense because the training data had many more low values than high values."
   ]
  },
  {
   "cell_type": "code",
   "execution_count": 70,
   "metadata": {
    "collapsed": false
   },
   "outputs": [],
   "source": [
    "top_20_indices = list(top_20.index)"
   ]
  },
  {
   "cell_type": "code",
   "execution_count": 71,
   "metadata": {
    "collapsed": true
   },
   "outputs": [],
   "source": [
    "bot_20_indices = list(bot_20.index)"
   ]
  },
  {
   "cell_type": "code",
   "execution_count": 77,
   "metadata": {
    "collapsed": false
   },
   "outputs": [],
   "source": [
    "payment_columns = prescriptions.columns[5:-1].tolist()\n",
    "prescriptions['payment_total'] = prescriptions[payment_columns].sum(axis=1)"
   ]
  },
  {
   "cell_type": "code",
   "execution_count": null,
   "metadata": {
    "collapsed": false
   },
   "outputs": [],
   "source": []
  },
  {
   "cell_type": "code",
   "execution_count": 81,
   "metadata": {
    "collapsed": false
   },
   "outputs": [],
   "source": [
    "prescriptions.loc[top_20_indices].to_csv(r'top_20_predicted_values.csv')"
   ]
  },
  {
   "cell_type": "code",
   "execution_count": 82,
   "metadata": {
    "collapsed": false
   },
   "outputs": [],
   "source": [
    "prescriptions.loc[bot_20_indices].to_csv(r'bot_20_predicted_values.csv')"
   ]
  },
  {
   "cell_type": "code",
   "execution_count": 83,
   "metadata": {
    "collapsed": true
   },
   "outputs": [],
   "source": [
    "top_20.to_csv(r'top_20_values.csv')"
   ]
  },
  {
   "cell_type": "code",
   "execution_count": 84,
   "metadata": {
    "collapsed": true
   },
   "outputs": [],
   "source": [
    "bot_20.to_csv(r'bot_20_values.csv')"
   ]
  },
  {
   "cell_type": "code",
   "execution_count": null,
   "metadata": {
    "collapsed": true
   },
   "outputs": [],
   "source": []
  },
  {
   "cell_type": "code",
   "execution_count": 85,
   "metadata": {
    "collapsed": true
   },
   "outputs": [],
   "source": [
    "supply_test.to_pickle(r'predicted_test_values.pkl')"
   ]
  },
  {
   "cell_type": "code",
   "execution_count": null,
   "metadata": {
    "collapsed": true
   },
   "outputs": [],
   "source": []
  },
  {
   "cell_type": "code",
   "execution_count": 20,
   "metadata": {
    "collapsed": false
   },
   "outputs": [
    {
     "data": {
      "text/plain": [
       "count    8.743650e+06\n",
       "mean     2.306533e+03\n",
       "std      4.118261e+03\n",
       "min      1.100000e+01\n",
       "25%      4.850000e+02\n",
       "50%      9.900000e+02\n",
       "75%      2.262000e+03\n",
       "max      2.436100e+05\n",
       "Name: TOTAL_DAY_SUPPLY, dtype: float64"
      ]
     },
     "execution_count": 20,
     "metadata": {},
     "output_type": "execute_result"
    }
   ],
   "source": [
    "total_day_supply.describe()"
   ]
  },
  {
   "cell_type": "code",
   "execution_count": 21,
   "metadata": {
    "collapsed": false
   },
   "outputs": [
    {
     "data": {
      "text/plain": [
       "4110.0"
      ]
     },
     "execution_count": 21,
     "metadata": {},
     "output_type": "execute_result"
    }
   ],
   "source": [
    "4.11e3"
   ]
  },
  {
   "cell_type": "code",
   "execution_count": 31,
   "metadata": {
    "collapsed": false
   },
   "outputs": [],
   "source": [
    "np.save('feature_importances', clf.feature_importances_)"
   ]
  },
  {
   "cell_type": "code",
   "execution_count": 86,
   "metadata": {
    "collapsed": false
   },
   "outputs": [
    {
     "data": {
      "text/plain": [
       "array([  2.28776170e-06,   7.37039930e-05,   2.60899731e-04, ...,\n",
       "         8.44594304e-07,   6.83287332e-09,   2.51751362e-05])"
      ]
     },
     "execution_count": 86,
     "metadata": {},
     "output_type": "execute_result"
    }
   ],
   "source": [
    "clf.feature_importances_"
   ]
  },
  {
   "cell_type": "code",
   "execution_count": null,
   "metadata": {
    "collapsed": false
   },
   "outputs": [],
   "source": []
  },
  {
   "cell_type": "code",
   "execution_count": null,
   "metadata": {
    "collapsed": true
   },
   "outputs": [],
   "source": []
  }
 ],
 "metadata": {
  "anaconda-cloud": {},
  "kernelspec": {
   "display_name": "Python [conda env:py27]",
   "language": "python",
   "name": "conda-env-py27-py"
  },
  "language_info": {
   "codemirror_mode": {
    "name": "ipython",
    "version": 2
   },
   "file_extension": ".py",
   "mimetype": "text/x-python",
   "name": "python",
   "nbconvert_exporter": "python",
   "pygments_lexer": "ipython2",
   "version": "2.7.12"
  }
 },
 "nbformat": 4,
 "nbformat_minor": 2
}
